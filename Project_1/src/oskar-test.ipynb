{
 "cells": [
  {
   "cell_type": "code",
   "execution_count": 18,
   "metadata": {},
   "outputs": [],
   "source": [
    "import numpy as np\n",
    "import matplotlib.pyplot as plt\n",
    "from matplotlib import cm\n",
    "from matplotlib.ticker import LinearLocator, FormatStrFormatter\n",
    "from random import random, seed\n",
    "from sklearn.linear_model import LinearRegression, Ridge, Lasso\n",
    "from sklearn.model_selection import train_test_split\n",
    "from sklearn.preprocessing import StandardScaler, PolynomialFeatures\n",
    "from sklearn.metrics import mean_squared_error\n",
    "from sklearn.pipeline import make_pipeline\n",
    "from sklearn.utils import resample\n",
    "from joblib import Parallel, delayed\n",
    "from functions import *\n",
    "plt.rcParams.update({'text.usetex': True, 'font.size': 16, 'font.family': 'serif', 'font.serif': 'Computer Modern Sans Serif', 'font.weight': 100, 'mathtext.fontset': 'cm', 'xtick.labelsize': 14, 'ytick.labelsize': 14})\n",
    "\n",
    "seed = 43\n",
    "np.random.seed(seed)\n",
    "\n",
    "with open(\"../data/darkmatter_1288.txt\", \"r\") as infile:\n",
    "    params = infile.readline().split(\",\")\n",
    "    # The box unit, density unit, dimensionless Hubble constant, x and y are the same for both redshifts\n",
    "    box_unit, rho_unit, h, a_1288 = params[0].split(\": \")[1], params[1].split(\": \")[1], float(params[2].split(\": \")[1]), float(params[3].split(\": \")[1]) \n",
    "    y = np.array(infile.readline().split(), dtype = float)\n",
    "    x = []; rho_1288 = []\n",
    "    for line in infile:\n",
    "        vals = line.split()\n",
    "        x.append(float(vals[-1]))\n",
    "        rho_1288.append(np.array(vals[:-1], dtype = float))\n",
    "x = np.array(x); rho_1288 = np.array(rho_1288)\n",
    "\n",
    "# The box unit, density unit, dimensionless Hubble constant, x and y are the same for both redshifts, so we only store the values of a and ρ this time\n",
    "\n",
    "with open(\"../data/darkmatter_0.txt\", \"r\") as infile:\n",
    "    params = infile.readline().split(\",\")\n",
    "    a_0 = float(params[3].split(\": \")[1]) \n",
    "    infile.readline()\n",
    "    rho_0 = []\n",
    "    for line in infile:\n",
    "        vals = line.split()\n",
    "        rho_0.append(np.array(vals[:-1], dtype = float))\n",
    "rho_0 = np.array(rho_0)\n",
    "\n",
    "x.reshape(-1, 1); y.reshape(-1, 1) \n",
    "z_1288 = np.log(rho_1288).reshape(-1, 1) \n",
    "z_0 = np.log(rho_0).reshape(-1, 1) "
   ]
  },
  {
   "cell_type": "code",
   "execution_count": 19,
   "metadata": {},
   "outputs": [],
   "source": [
    "lambdas = np.logspace(-7, 0, 5)\n",
    "degrees = range(1, 7)\n",
    "MSE_Lasso_list = []\n",
    "R2_Lasso_list = []\n",
    "z_list = [z_1288, z_0]"
   ]
  },
  {
   "cell_type": "code",
   "execution_count": 20,
   "metadata": {},
   "outputs": [
    {
     "name": "stdout",
     "output_type": "stream",
     "text": [
      "Degree 1\n",
      "Degree 2\n",
      "Degree 3\n",
      "Degree 4\n",
      "Degree 5\n",
      "Degree 6\n",
      "Degree 1\n",
      "Degree 2\n",
      "Degree 3\n",
      "Degree 4\n",
      "Degree 5\n",
      "Degree 6\n"
     ]
    }
   ],
   "source": [
    "for z in z_list:\n",
    "    MSE_Lasso_list.append(np.zeros((len(degrees), len(lambdas))))\n",
    "    R2_Lasso_list.append(np.zeros((len(degrees), len(lambdas))))\n",
    "    for i in range(len(degrees)):\n",
    "        print(f\"Degree {degrees[i]}\")\n",
    "        for j in range(len(lambdas)):\n",
    "            MSE_Lasso, R2_Lasso = Lasso(x, y, z, degrees[i], lambdas[j], seed = seed)\n",
    "            MSE_Lasso_list[-1][i, j] = MSE_Lasso\n",
    "            R2_Lasso_list[-1][i, j] = R2_Lasso"
   ]
  },
  {
   "cell_type": "code",
   "execution_count": 21,
   "metadata": {},
   "outputs": [],
   "source": [
    "result_list = []\n",
    "\n",
    "for i, z in enumerate(z_list):\n",
    "    result_list.append(Parallel(n_jobs = -1)\n",
    "    (delayed(Lasso)(x, y, z, degree, lambdas[j], seed = seed) \n",
    "        for degree in degrees\n",
    "            for j in range(len(lambdas))))"
   ]
  }
 ],
 "metadata": {
  "kernelspec": {
   "display_name": "myenv",
   "language": "python",
   "name": "python3"
  },
  "language_info": {
   "codemirror_mode": {
    "name": "ipython",
    "version": 3
   },
   "file_extension": ".py",
   "mimetype": "text/x-python",
   "name": "python",
   "nbconvert_exporter": "python",
   "pygments_lexer": "ipython3",
   "version": "3.12.5"
  }
 },
 "nbformat": 4,
 "nbformat_minor": 2
}
