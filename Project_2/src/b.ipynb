{
 "cells": [
  {
   "cell_type": "markdown",
   "metadata": {},
   "source": [
    "# Study of a Regression problem on Franke function"
   ]
  },
  {
   "cell_type": "code",
   "execution_count": 2,
   "metadata": {},
   "outputs": [],
   "source": [
    "import matplotlib.pyplot as plt\n",
    "from matplotlib import cm\n",
    "from matplotlib.ticker import LinearLocator, FormatStrFormatter\n",
    "import numpy as np\n",
    "from random import seed\n",
    "from sklearn.model_selection import train_test_split, KFold, cross_val_score, cross_val_predict\n",
    "from sklearn.linear_model import LinearRegression\n",
    "from sklearn import linear_model\n",
    "from sklearn.preprocessing import StandardScaler\n",
    "from sklearn.utils import resample\n",
    "import warnings\n",
    "warnings.filterwarnings(\"ignore\")\n",
    "\n",
    "from functions import *\n",
    "\n",
    "from activation_funcs import *\n",
    "from cost_funcs import *\n",
    "from Schedulers import *\n",
    "from FFNN import FFNN\n",
    "\n",
    "np.random.seed(42)"
   ]
  },
  {
   "cell_type": "code",
   "execution_count": 37,
   "metadata": {},
   "outputs": [],
   "source": [
    "N  = 100\n",
    "x = np.arange(0, 1, 1/N)\n",
    "y = np.arange(0, 1, 1/N)\n",
    "X, Y = np.meshgrid(x, y)\n",
    "\n",
    "z = (FrankeFunction(X, Y) + np.random.normal(0, 0.1, (N, N))).reshape(-1, 1) \n",
    "\n",
    "poly_degree = 3\n",
    "X = create_X(x, y, poly_degree)\n",
    "\n",
    "X_train, X_test, t_train, t_test = train_test_split(X, z, test_size=0.2)"
   ]
  },
  {
   "cell_type": "code",
   "execution_count": 43,
   "metadata": {},
   "outputs": [
    {
     "name": "stdout",
     "output_type": "stream",
     "text": [
      "10\n"
     ]
    }
   ],
   "source": [
    "input_nodes = X_train.shape[1]\n",
    "hidden_nodes = 10\n",
    "output_nodes = 1\n",
    "\n",
    "dims = [input_nodes, hidden_nodes, output_nodes]\n",
    "\n",
    "linear_reg = FFNN(dims, hidden_func=sigmoid, output_func=RELU, cost_func=CostLogReg)"
   ]
  },
  {
   "cell_type": "markdown",
   "metadata": {},
   "source": [
    "## Need to discuss:\n",
    "- choice of output activation function\n",
    "- choice of cost function\n",
    "- How to initialize biases\n",
    "- How to initialize weights on a normal distribution"
   ]
  },
  {
   "cell_type": "code",
   "execution_count": 42,
   "metadata": {},
   "outputs": [
    {
     "name": "stdout",
     "output_type": "stream",
     "text": [
      "Constant: Eta=1e-05, lambda=1e-05\n",
      "  [=======================================>] 100.0% | train_error: 12.2 | R2_score: -3.7 | train_acc: 0.00 "
     ]
    }
   ],
   "source": [
    "linear_reg.reset_weights()\n",
    "\n",
    "scheduler = Constant(eta=1e-5)\n",
    "scores = linear_reg.fit(X_train, t_train, scheduler, lambd=1e-5, epochs=100)"
   ]
  }
 ],
 "metadata": {
  "kernelspec": {
   "display_name": "Python 3",
   "language": "python",
   "name": "python3"
  },
  "language_info": {
   "codemirror_mode": {
    "name": "ipython",
    "version": 3
   },
   "file_extension": ".py",
   "mimetype": "text/x-python",
   "name": "python",
   "nbconvert_exporter": "python",
   "pygments_lexer": "ipython3",
   "version": "3.10.11"
  }
 },
 "nbformat": 4,
 "nbformat_minor": 2
}
