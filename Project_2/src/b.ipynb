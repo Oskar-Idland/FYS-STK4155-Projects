{
 "cells": [
  {
   "cell_type": "markdown",
   "metadata": {},
   "source": [
    "# Study of a Regression problem on Franke function"
   ]
  },
  {
   "cell_type": "code",
   "execution_count": 1,
   "metadata": {},
   "outputs": [],
   "source": [
    "import matplotlib.pyplot as plt\n",
    "from matplotlib import cm\n",
    "from matplotlib.ticker import LinearLocator, FormatStrFormatter\n",
    "import numpy as np\n",
    "from random import seed\n",
    "from sklearn.model_selection import train_test_split, KFold, cross_val_score, cross_val_predict\n",
    "from sklearn.linear_model import LinearRegression\n",
    "from sklearn import linear_model\n",
    "from sklearn.preprocessing import StandardScaler\n",
    "from sklearn.utils import resample\n",
    "import warnings\n",
    "warnings.filterwarnings(\"ignore\")\n",
    "\n",
    "from functions import *\n",
    "\n",
    "from activation_funcs import *\n",
    "from cost_funcs import *\n",
    "from Schedulers import *\n",
    "from FFNN import FFNN\n",
    "\n",
    "seed = 42069\n",
    "np.random.seed(seed)"
   ]
  },
  {
   "cell_type": "code",
   "execution_count": 2,
   "metadata": {},
   "outputs": [
    {
     "name": "stdout",
     "output_type": "stream",
     "text": [
      "(1280, 10)\n"
     ]
    }
   ],
   "source": [
    "N  = 40\n",
    "x = np.arange(0, 1, 1/N)\n",
    "y = np.arange(0, 1, 1/N)\n",
    "X, Y = np.meshgrid(x, y)\n",
    "\n",
    "z = (FrankeFunction(X, Y) + np.random.normal(0, 0.1, (N, N))).reshape(-1, 1) \n",
    "\n",
    "poly_degree = 3\n",
    "X = create_X(x, y, poly_degree)\n",
    "\n",
    "X_train, X_test, y_train, y_test = train_test_split(X, z, test_size=0.2, random_state=seed)\n",
    "\n",
    "scaler = StandardScaler()\n",
    "X_train_scaled = scaler.fit_transform(X_train)\n",
    "X_test_scaled = scaler.transform(X_test)\n",
    "\n",
    "print(X_train_scaled.shape)"
   ]
  },
  {
   "cell_type": "code",
   "execution_count": 3,
   "metadata": {},
   "outputs": [],
   "source": [
    "input_shape = X_train_scaled.shape[1]\n",
    "hidden_shape = (2, 2)\n",
    "output_shape = 1\n",
    "dims =  (input_shape, *hidden_shape, output_shape)\n",
    "\n",
    "model = FFNN(\n",
    "    dimensions=dims,\n",
    "    hidden_funcs=(sigmoid, sigmoid),\n",
    "    output_func=identity,\n",
    "    cost_func=MSE,\n",
    "    cost_der=MSE_derivative,\n",
    "    seed=seed\n",
    ")"
   ]
  },
  {
   "cell_type": "code",
   "execution_count": 4,
   "metadata": {},
   "outputs": [
    {
     "name": "stdout",
     "output_type": "stream",
     "text": [
      "2\n"
     ]
    },
    {
     "ename": "IndexError",
     "evalue": "list index out of range",
     "output_type": "error",
     "traceback": [
      "\u001b[1;31m---------------------------------------------------------------------------\u001b[0m",
      "\u001b[1;31mIndexError\u001b[0m                                Traceback (most recent call last)",
      "Cell \u001b[1;32mIn [4], line 8\u001b[0m\n\u001b[0;32m      4\u001b[0m batch_size \u001b[38;5;241m=\u001b[39m \u001b[38;5;241m10\u001b[39m\n\u001b[0;32m      6\u001b[0m lmbda \u001b[38;5;241m=\u001b[39m \u001b[38;5;241m0.01\u001b[39m\n\u001b[1;32m----> 8\u001b[0m scores \u001b[38;5;241m=\u001b[39m \u001b[43mmodel\u001b[49m\u001b[38;5;241;43m.\u001b[39;49m\u001b[43mfit\u001b[49m\u001b[43m(\u001b[49m\n\u001b[0;32m      9\u001b[0m \u001b[43m    \u001b[49m\u001b[43mX_train_scaled\u001b[49m\u001b[43m,\u001b[49m\n\u001b[0;32m     10\u001b[0m \u001b[43m    \u001b[49m\u001b[43my_train\u001b[49m\u001b[43m,\u001b[49m\u001b[43m \u001b[49m\n\u001b[0;32m     11\u001b[0m \u001b[43m    \u001b[49m\u001b[43mscheduler\u001b[49m\u001b[38;5;241;43m=\u001b[39;49m\u001b[43mscheduler\u001b[49m\u001b[43m,\u001b[49m\n\u001b[0;32m     12\u001b[0m \u001b[43m    \u001b[49m\u001b[43mepochs\u001b[49m\u001b[38;5;241;43m=\u001b[39;49m\u001b[43mepochs\u001b[49m\u001b[43m,\u001b[49m\n\u001b[0;32m     13\u001b[0m \u001b[43m    \u001b[49m\u001b[43mbatch_size\u001b[49m\u001b[38;5;241;43m=\u001b[39;49m\u001b[43mbatch_size\u001b[49m\u001b[43m,\u001b[49m\n\u001b[0;32m     14\u001b[0m \u001b[43m    \u001b[49m\u001b[43mlmbda\u001b[49m\u001b[38;5;241;43m=\u001b[39;49m\u001b[43mlmbda\u001b[49m\u001b[43m,\u001b[49m\n\u001b[0;32m     15\u001b[0m \u001b[43m    \u001b[49m\u001b[43m)\u001b[49m\n",
      "File \u001b[1;32mc:\\Users\\Erik\\Documents\\ELITE - Master\\H24\\FYS-STK4155\\FYS-STK4155-Projects\\Project_2\\src\\FFNN.py:106\u001b[0m, in \u001b[0;36mFFNN.fit\u001b[1;34m(self, X, y, scheduler, epochs, batch_size, lmbda)\u001b[0m\n\u001b[0;32m    103\u001b[0m y_batch \u001b[38;5;241m=\u001b[39m y[batch_indices]\n\u001b[0;32m    105\u001b[0m \u001b[38;5;66;03m# Compute gradients\u001b[39;00m\n\u001b[1;32m--> 106\u001b[0m gradients \u001b[38;5;241m=\u001b[39m \u001b[38;5;28;43mself\u001b[39;49m\u001b[38;5;241;43m.\u001b[39;49m\u001b[43m_backpropagation\u001b[49m\u001b[43m(\u001b[49m\u001b[43mX_batch\u001b[49m\u001b[43m,\u001b[49m\u001b[43m \u001b[49m\u001b[43my_batch\u001b[49m\u001b[43m,\u001b[49m\u001b[43m \u001b[49m\u001b[43mlmbda\u001b[49m\u001b[43m)\u001b[49m\n\u001b[0;32m    108\u001b[0m \u001b[38;5;66;03m# Update weights\u001b[39;00m\n\u001b[0;32m    109\u001b[0m \u001b[38;5;28;01mfor\u001b[39;00m i, grad \u001b[38;5;129;01min\u001b[39;00m \u001b[38;5;28menumerate\u001b[39m(gradients):\n",
      "File \u001b[1;32mc:\\Users\\Erik\\Documents\\ELITE - Master\\H24\\FYS-STK4155\\FYS-STK4155-Projects\\Project_2\\src\\FFNN.py:281\u001b[0m, in \u001b[0;36mFFNN._backpropagation\u001b[1;34m(self, inputs, targets, lambd)\u001b[0m\n\u001b[0;32m    277\u001b[0m gradient_weights \u001b[38;5;241m+\u001b[39m\u001b[38;5;241m=\u001b[39m \u001b[38;5;28mself\u001b[39m\u001b[38;5;241m.\u001b[39mweights[i][\u001b[38;5;241m1\u001b[39m:, :] \u001b[38;5;241m*\u001b[39m lambd\n\u001b[0;32m    279\u001b[0m \u001b[38;5;66;03m# Combine updates in format expected by schedulers\u001b[39;00m\n\u001b[0;32m    280\u001b[0m update_matrix \u001b[38;5;241m=\u001b[39m np\u001b[38;5;241m.\u001b[39mvstack([\n\u001b[1;32m--> 281\u001b[0m \t\u001b[38;5;28;43mself\u001b[39;49m\u001b[38;5;241;43m.\u001b[39;49m\u001b[43mschedulers_bias\u001b[49m\u001b[43m[\u001b[49m\u001b[43mi\u001b[49m\u001b[43m]\u001b[49m\u001b[38;5;241m.\u001b[39mupdate_change(gradient_bias),\n\u001b[0;32m    282\u001b[0m \t\u001b[38;5;28mself\u001b[39m\u001b[38;5;241m.\u001b[39mschedulers_weight[i]\u001b[38;5;241m.\u001b[39mupdate_change(gradient_weights)\n\u001b[0;32m    283\u001b[0m ])\n\u001b[0;32m    285\u001b[0m \u001b[38;5;66;03m# Update weights\u001b[39;00m\n\u001b[0;32m    286\u001b[0m \u001b[38;5;28mself\u001b[39m\u001b[38;5;241m.\u001b[39mweights[i] \u001b[38;5;241m-\u001b[39m\u001b[38;5;241m=\u001b[39m update_matrix\n",
      "\u001b[1;31mIndexError\u001b[0m: list index out of range"
     ]
    }
   ],
   "source": [
    "scheduler = Adagrad(eta=0.01)\n",
    "\n",
    "epochs = 1000\n",
    "batch_size = 10\n",
    "\n",
    "lmbda = 0.01\n",
    "\n",
    "scores = model.fit(\n",
    "    X_train_scaled,\n",
    "    y_train, \n",
    "    scheduler=scheduler,\n",
    "    epochs=epochs,\n",
    "    batch_size=batch_size,\n",
    "    lmbda=lmbda,\n",
    "    )"
   ]
  }
 ],
 "metadata": {
  "kernelspec": {
   "display_name": "Python 3",
   "language": "python",
   "name": "python3"
  },
  "language_info": {
   "codemirror_mode": {
    "name": "ipython",
    "version": 3
   },
   "file_extension": ".py",
   "mimetype": "text/x-python",
   "name": "python",
   "nbconvert_exporter": "python",
   "pygments_lexer": "ipython3",
   "version": "3.10.11"
  }
 },
 "nbformat": 4,
 "nbformat_minor": 2
}
