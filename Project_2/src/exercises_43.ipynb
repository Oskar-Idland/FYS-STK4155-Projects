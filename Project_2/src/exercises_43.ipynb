{
 "cells": [
  {
   "cell_type": "markdown",
   "metadata": {},
   "source": [
    "<div align=\"center\"><h1>\n",
    "FYS-STK4155 - Exercises Week 43\n",
    "</div>\n",
    "<hr style=\"border:2px solid gray\"> </hr>\n",
    "<div align=\"center\"><h3>\n",
    "Håvard Skåli\n",
    "</div>"
   ]
  },
  {
   "cell_type": "code",
   "execution_count": 524,
   "metadata": {},
   "outputs": [],
   "source": [
    "import autograd.numpy as np  # We need to use this numpy wrapper to make automatic differentiation work later\n",
    "from autograd import grad, elementwise_grad\n",
    "from sklearn import datasets\n",
    "import matplotlib.pyplot as plt\n",
    "from sklearn.metrics import accuracy_score\n",
    "\n",
    "plt.rcParams.update({'text.usetex': True, 'font.size': 16, 'font.family': 'serif', 'font.serif': 'Computer Modern Sans Serif', 'font.weight': 100, 'mathtext.fontset': 'cm', 'xtick.labelsize': 14, 'ytick.labelsize': 14})\n",
    "\n",
    "# seed = 2024\n",
    "# np.random.seed(seed)\n",
    "\n",
    "# Defining some activation functions\n",
    "def ReLU(z):\n",
    "    return np.where(z > 0, z, 0)\n",
    "\n",
    "\n",
    "# Derivative of the ReLU function\n",
    "def ReLU_der(z):\n",
    "    return np.where(z > 0, 1, 0)\n",
    "\n",
    "\n",
    "def sigmoid(z):\n",
    "    return 1 / (1 + np.exp(-z))\n",
    "\n",
    "def softmax(z):\n",
    "    \"\"\"Compute softmax values for each set of scores in the rows of the matrix z.\n",
    "    Used with batched input data.\"\"\"\n",
    "    e_z = np.exp(z - np.max(z, axis=0))\n",
    "    return e_z / np.sum(e_z, axis=1)[:, np.newaxis]\n",
    "\n",
    "\n",
    "def softmax_vec(z):\n",
    "    \"\"\"Compute softmax values for each set of scores in the vector z.\n",
    "    Use this function when you use the activation function on one vector at a time\"\"\"\n",
    "    e_z = np.exp(z - np.max(z))\n",
    "    return e_z / np.sum(e_z)\n",
    "\n",
    "def mse(predict, target):\n",
    "    return np.mean((predict - target) ** 2)"
   ]
  },
  {
   "cell_type": "markdown",
   "metadata": {},
   "source": [
    "## Exercise 1: Last week's exercises"
   ]
  },
  {
   "cell_type": "markdown",
   "metadata": {},
   "source": [
    "### Exercise 1:"
   ]
  },
  {
   "cell_type": "code",
   "execution_count": 525,
   "metadata": {},
   "outputs": [],
   "source": [
    "x = np.random.randn(2)      # Network input. This is a single input with two features\n",
    "W1 = np.random.randn(4, 2)  # First layer weights"
   ]
  },
  {
   "cell_type": "markdown",
   "metadata": {},
   "source": [
    "#### a)\n",
    "\n",
    "The input shape is determined by the shape of `x`, hence the input shape of the neural network is `(2,)`. The output shape of the first layer is determined by the matrix multiplication between the weight matrix `W1` and the input `x`. Since `W1` has a shape of `(4, 2)` and `x` has a shape of `(2,)`, the resulting output will have a shape of `(4,)`, meaning the first layer will output a vector with 4 elements."
   ]
  },
  {
   "cell_type": "markdown",
   "metadata": {},
   "source": [
    "#### b)\n",
    "\n",
    "To define the bias vector `b1` for the first layer, the shape of `b1` must match the output shape of the first layer. From the previous part, we know that the output shape of the first layer is `(4,)`. Therefore, `b1` should be a vector of shape `(4,)`.\n",
    "\n",
    "To set it up, you would typically use random values or initialize it to zeros, depending on the context. Since the instruction suggests aligning random values with a specific test, we can define `b1` like this:"
   ]
  },
  {
   "cell_type": "code",
   "execution_count": 526,
   "metadata": {},
   "outputs": [],
   "source": [
    "b1 = np.random.randn(4)  # Random bias values for the first layer"
   ]
  },
  {
   "cell_type": "markdown",
   "metadata": {},
   "source": [
    "#### c)"
   ]
  },
  {
   "cell_type": "code",
   "execution_count": 527,
   "metadata": {},
   "outputs": [],
   "source": [
    "z1 = W1 @ x + b1  # Intermediate inputs to the activation function for first hidden layer"
   ]
  },
  {
   "cell_type": "markdown",
   "metadata": {},
   "source": [
    "#### d)"
   ]
  },
  {
   "cell_type": "code",
   "execution_count": 528,
   "metadata": {},
   "outputs": [],
   "source": [
    "a1 = ReLU(z1)   # Outputs of activation function for first hidden layer"
   ]
  },
  {
   "cell_type": "code",
   "execution_count": 529,
   "metadata": {},
   "outputs": [
    {
     "name": "stdout",
     "output_type": "stream",
     "text": [
      "False\n"
     ]
    }
   ],
   "source": [
    "sol1 = np.array([0.60610368, 4.0076268, 0.0, 0.56469864])\n",
    "\n",
    "print(np.allclose(a1, sol1))"
   ]
  },
  {
   "cell_type": "markdown",
   "metadata": {},
   "source": [
    "### Exercise 2:"
   ]
  },
  {
   "cell_type": "markdown",
   "metadata": {},
   "source": [
    "#### a)\n",
    "\n",
    "The input to the second layer will be the output of the first layer after applying any necessary activation functions. Since the first layer had an output shape of `(4,)`, this means the second layer will receive an input with this shape."
   ]
  },
  {
   "cell_type": "markdown",
   "metadata": {},
   "source": [
    "#### b)\n",
    "\n",
    "Since the second layer has an output size of 8, and the input to the second layer has a size of 4 (from the previous layer), the weight matrix `W2` will have a shape of `(8, 4)`, and the bias vector `b2` will have a shape of `(8,)`."
   ]
  },
  {
   "cell_type": "code",
   "execution_count": 530,
   "metadata": {},
   "outputs": [],
   "source": [
    "W2 = np.random.randn(8, 4)  # Weight matrix for the second layer\n",
    "b2 = np.random.randn(8)     # Bias for the second layer"
   ]
  },
  {
   "cell_type": "markdown",
   "metadata": {},
   "source": [
    "#### c)"
   ]
  },
  {
   "cell_type": "code",
   "execution_count": 531,
   "metadata": {},
   "outputs": [],
   "source": [
    "z2 = W2 @ a1 + b2 \n",
    "a2 = ReLU(z2)    "
   ]
  },
  {
   "cell_type": "code",
   "execution_count": 532,
   "metadata": {},
   "outputs": [
    {
     "name": "stdout",
     "output_type": "stream",
     "text": [
      "True\n"
     ]
    }
   ],
   "source": [
    "print(\n",
    "    np.allclose(np.exp(len(a2)), 2980.9579870417283)\n",
    ")  # This should evaluate to True if a2 has the correct shape :)"
   ]
  },
  {
   "cell_type": "markdown",
   "metadata": {},
   "source": [
    "### Exercise 3:"
   ]
  },
  {
   "cell_type": "markdown",
   "metadata": {},
   "source": [
    "#### a)"
   ]
  },
  {
   "cell_type": "code",
   "execution_count": 533,
   "metadata": {},
   "outputs": [],
   "source": [
    "def create_layers(network_input_size, layer_output_sizes):\n",
    "    layers = []\n",
    "\n",
    "    i_size = network_input_size\n",
    "    for layer_output_size in layer_output_sizes:\n",
    "        W = np.random.randn(layer_output_size, i_size)\n",
    "        b = np.random.randn(layer_output_size)\n",
    "        layers.append((W, b))\n",
    "\n",
    "        i_size = layer_output_size\n",
    "    return layers"
   ]
  },
  {
   "cell_type": "markdown",
   "metadata": {},
   "source": [
    "#### b)"
   ]
  },
  {
   "cell_type": "code",
   "execution_count": 534,
   "metadata": {},
   "outputs": [],
   "source": [
    "def feed_forward_all_relu(layers, input):\n",
    "    a = [input]\n",
    "    for W, b in layers:\n",
    "        z = W @ a[-1] + b\n",
    "        a.append(ReLU(z))\n",
    "    return a[1:]"
   ]
  },
  {
   "cell_type": "markdown",
   "metadata": {},
   "source": [
    "#### c)"
   ]
  },
  {
   "cell_type": "code",
   "execution_count": 535,
   "metadata": {},
   "outputs": [
    {
     "name": "stdout",
     "output_type": "stream",
     "text": [
      "True\n"
     ]
    }
   ],
   "source": [
    "input_size = 8\n",
    "layer_output_sizes = [10, 16, 6, 2]\n",
    "\n",
    "x = np.random.rand(input_size)\n",
    "layers = create_layers(input_size, layer_output_sizes)\n",
    "predicts = feed_forward_all_relu(layers, np.random.randn(input_size))\n",
    "# for predict in predicts:\n",
    "#     print(predict.size, predict)\n",
    "\n",
    "print(np.allclose([len(predict) for predict in predicts], layer_output_sizes))"
   ]
  },
  {
   "cell_type": "markdown",
   "metadata": {},
   "source": [
    "#### d)\n",
    "\n",
    "A neural network without activation functions between layers is mathematically equivalent to a single-layer network because then the entire network is essentially performing a single linear transformation. To explain this, consider that each layer in a neural network applies a linear transformation to its input: $\\mathbf{z} = \\mathbf{W}\\mathbf{x} + \\mathbf{b}$, where $\\mathbf{W}$ is the weight matrix, $\\mathbf{x}$ is the input, and $\\mathbf{b}$ is the bias. If there is no non-linearity, i.e. no activation function), every subsequent layer just applies another linear transformation. Now, since the composition of multiple linear transformations is still a linear transformation, we can combine the linear transformations from two layers, $\\mathbf{z}_1 = \\mathbf{W}_1 \\mathbf{x} + \\mathbf{b}_1$ and $\\mathbf{z}_2 = \\mathbf{W}_2 \\mathbf{z}_1 + \\mathbf{b}_2$, into a single linear operation:\n",
    "$$\n",
    "\\mathbf{z}_2 = \\mathbf{W}_2 (\\mathbf{W}_1 \\mathbf{x} + \\mathbf{b}_1) + \\mathbf{b}_2 = (\\mathbf{W}_2  \\mathbf{W}_1)  \\mathbf{x} + (\\mathbf{W}_2  \\mathbf{b}_1 + \\mathbf{b}_2)\n",
    "$$\n",
    "\n",
    "Activation functions like ReLU, sigmoid, or tanh introduce non-linearity, which is essential for the network to model complex patterns. Without these, the network is simply a chain of linear operations, which can be collapsed into one. Thus, without activation functions, a multi-layer neural network can be reduced to a single-layer network because it doesn’t gain any representational power from having multiple layers of linear transformations."
   ]
  },
  {
   "cell_type": "markdown",
   "metadata": {},
   "source": [
    "### Exercise 4:"
   ]
  },
  {
   "cell_type": "markdown",
   "metadata": {},
   "source": [
    "#### a)"
   ]
  },
  {
   "cell_type": "code",
   "execution_count": 536,
   "metadata": {},
   "outputs": [],
   "source": [
    "def feed_forward(input, layers, activation_funcs):\n",
    "    a = [input]\n",
    "    for (W, b), activation_func in zip(layers, activation_funcs):\n",
    "        z = W @ a[-1] + b\n",
    "        a.append(activation_func(z))\n",
    "    return a[1:]"
   ]
  },
  {
   "cell_type": "markdown",
   "metadata": {},
   "source": [
    "#### b)"
   ]
  },
  {
   "cell_type": "code",
   "execution_count": 537,
   "metadata": {},
   "outputs": [],
   "source": [
    "network_input_size = 6\n",
    "layer_output_sizes = [10, 8, 12]\n",
    "activation_funcs_1 = [ReLU, ReLU, sigmoid]\n",
    "layers = create_layers(network_input_size, layer_output_sizes)\n",
    "\n",
    "x = np.random.randn(network_input_size)\n",
    "outputs_1 = feed_forward(x, layers, activation_funcs_1)"
   ]
  },
  {
   "cell_type": "markdown",
   "metadata": {},
   "source": [
    "#### c)"
   ]
  },
  {
   "cell_type": "code",
   "execution_count": 538,
   "metadata": {},
   "outputs": [],
   "source": [
    "activation_funcs_2 = [sigmoid, sigmoid, ReLU]\n",
    "outputs_2 = feed_forward(x, layers, activation_funcs_2)"
   ]
  },
  {
   "cell_type": "code",
   "execution_count": 539,
   "metadata": {},
   "outputs": [
    {
     "data": {
      "image/png": "[encoded data removed]",
      "text/plain": [
       "<Figure size 900x500 with 1 Axes>"
      ]
     },
     "metadata": {},
     "output_type": "display_data"
    }
   ],
   "source": [
    "plt.figure(figsize = (9, 5))\n",
    "for i in range(3):\n",
    "    plt.scatter([i+1]*len(outputs_1[i]), outputs_1[i], s = 70, c = \"#ffaed7\", edgecolor = \"#ff77bc\", label = \"ReLU in hidden\" if i == 0 else None)\n",
    "    plt.scatter([i+1]*len(outputs_2[i]), outputs_2[i], s = 30, c = \"#a0d9ef\", edgecolor = \"#62c1e5\", label = \"sigmoid in hidden\" if i == 0 else None)\n",
    "plt.legend()\n",
    "plt.xticks([1, 2, 3], labels = [\"Hidden layer 1\", \"Hidden layer 2\", \"Output layer\"])\n",
    "plt.show()"
   ]
  },
  {
   "cell_type": "markdown",
   "metadata": {},
   "source": [
    "We see that having the sigmoid activation function in the hidden layers results in smaller outputs, which makes sense since the sigmoid activation function is a non-linear function that effectively \"squashes\" its inputs to give output values between 0 and 1. This makes the model behave in a \"soft\" thresholding manner, where values are not highly activated unless the input is sufficiently large. The ReLU function outputs the input directly if it is positive, and 0 otherwise. This is why having ReLU in the hidden layers leads to large outputs until we reach the output layer where they are constrained to be 1 at most, while we get outputs larger than 1 when we use ReLU in the output layer and sigmoid in the hidden layers even though the hidden layer outputs lie between 0 and 1."
   ]
  },
  {
   "cell_type": "markdown",
   "metadata": {},
   "source": [
    "### Exercise 5:"
   ]
  },
  {
   "cell_type": "markdown",
   "metadata": {},
   "source": [
    "#### a)"
   ]
  },
  {
   "cell_type": "code",
   "execution_count": 540,
   "metadata": {},
   "outputs": [],
   "source": [
    "def create_layers_batch(network_input_size, layer_output_sizes):\n",
    "    layers = []\n",
    "\n",
    "    i_size = network_input_size\n",
    "    for layer_output_size in layer_output_sizes:\n",
    "        W = np.random.randn(i_size, layer_output_size)\n",
    "        b = np.random.randn(layer_output_size)\n",
    "        layers.append((W, b))\n",
    "\n",
    "        i_size = layer_output_size\n",
    "    return layers"
   ]
  },
  {
   "cell_type": "markdown",
   "metadata": {},
   "source": [
    "#### b)"
   ]
  },
  {
   "cell_type": "code",
   "execution_count": 541,
   "metadata": {},
   "outputs": [],
   "source": [
    "def feed_forward_batch(inputs, layers, activation_funcs):\n",
    "    a = inputs\n",
    "    for (W, b), activation_func in zip(layers, activation_funcs):\n",
    "        z = a @ W + b\n",
    "        a = activation_func(z)\n",
    "    return a"
   ]
  },
  {
   "cell_type": "markdown",
   "metadata": {},
   "source": [
    "#### c)"
   ]
  },
  {
   "cell_type": "code",
   "execution_count": 542,
   "metadata": {},
   "outputs": [
    {
     "name": "stdout",
     "output_type": "stream",
     "text": [
      "True\n"
     ]
    }
   ],
   "source": [
    "network_input_size = 4\n",
    "layer_output_sizes = [12, 10, 3]\n",
    "activation_funcs = [ReLU, ReLU, softmax]\n",
    "layers = create_layers_batch(network_input_size, layer_output_sizes)\n",
    "\n",
    "inputs = np.random.randn(1000, network_input_size)\n",
    "outputs = feed_forward_batch(inputs, layers, activation_funcs)\n",
    "print(np.allclose([len(output) for output in outputs], 1000*[layer_output_sizes[-1]]))"
   ]
  },
  {
   "cell_type": "markdown",
   "metadata": {},
   "source": [
    "### Exercise 6:"
   ]
  },
  {
   "cell_type": "code",
   "execution_count": 543,
   "metadata": {},
   "outputs": [
    {
     "data": {
      "image/png": "[encoded data removed]",
      "text/plain": [
       "<Figure size 900x500 with 1 Axes>"
      ]
     },
     "metadata": {},
     "output_type": "display_data"
    }
   ],
   "source": [
    "iris = datasets.load_iris()\n",
    "\n",
    "_, ax = plt.subplots(figsize = (9, 5))\n",
    "scatter = ax.scatter(iris.data[:, 0], iris.data[:, 1], c=iris.target)\n",
    "ax.set(xlabel=iris.feature_names[0], ylabel=iris.feature_names[1])\n",
    "_ = ax.legend(\n",
    "    scatter.legend_elements()[0], iris.target_names, loc=\"lower right\", title=\"Classes\"\n",
    ")"
   ]
  },
  {
   "cell_type": "code",
   "execution_count": 544,
   "metadata": {},
   "outputs": [],
   "source": [
    "inputs = iris.data\n",
    "\n",
    "# Since each prediction is a vector with a score for each of the three types of flowers,\n",
    "# we need to make each target a vector with a 1 for the correct flower and a 0 for the others.\n",
    "targets = np.zeros((len(iris.data), 3))\n",
    "for i, t in enumerate(iris.target):\n",
    "    targets[i, t] = 1\n",
    "\n",
    "def accuracy(predictions, targets):\n",
    "    one_hot_predictions = np.zeros(predictions.shape)\n",
    "\n",
    "    for i, prediction in enumerate(predictions):\n",
    "        one_hot_predictions[i, np.argmax(prediction)] = 1\n",
    "    return accuracy_score(one_hot_predictions, targets)"
   ]
  },
  {
   "cell_type": "markdown",
   "metadata": {},
   "source": [
    "#### a)\n",
    "\n",
    "The input to the neural network is based on the features of the Iris dataset. Each flower is represented by 4 features: sepal length, sepal width, petal length and petal width. Thus, the input size for the network must be 4, as each data point has 4 features. The task is a classification problem with 3 classes, corresponding to the 3 species of flowers (Setosa, Versicolor and Virginica). The output layer of the network needs to produce a score for each class, and the output size of the last layer should therefore be 3, corresponding to the 3 possible flower species. "
   ]
  },
  {
   "cell_type": "markdown",
   "metadata": {},
   "source": [
    "#### b)"
   ]
  },
  {
   "cell_type": "code",
   "execution_count": 545,
   "metadata": {},
   "outputs": [],
   "source": [
    "layers = create_layers_batch(4, [8, 3])"
   ]
  },
  {
   "cell_type": "markdown",
   "metadata": {},
   "source": [
    "#### c)"
   ]
  },
  {
   "cell_type": "code",
   "execution_count": 546,
   "metadata": {},
   "outputs": [],
   "source": [
    "predictions = feed_forward_batch(inputs, layers, [sigmoid, softmax])"
   ]
  },
  {
   "cell_type": "markdown",
   "metadata": {},
   "source": [
    "#### d)"
   ]
  },
  {
   "cell_type": "code",
   "execution_count": 547,
   "metadata": {},
   "outputs": [
    {
     "name": "stdout",
     "output_type": "stream",
     "text": [
      "0.66\n"
     ]
    }
   ],
   "source": [
    "# Compute the accuracy using the one-hot encoded targets\n",
    "print(accuracy(predictions, targets))"
   ]
  },
  {
   "cell_type": "code",
   "execution_count": 548,
   "metadata": {},
   "outputs": [
    {
     "name": "stdout",
     "output_type": "stream",
     "text": [
      "0.32666666666666666\n",
      "0.0\n",
      "0.5466666666666666\n",
      "0.6133333333333333\n",
      "0.16666666666666666\n"
     ]
    }
   ],
   "source": [
    "for i in range(5):\n",
    "    layers = create_layers_batch(4, [8, 3])\n",
    "    predictions = feed_forward_batch(inputs, layers, [sigmoid, softmax])\n",
    "    print(accuracy(predictions, targets))"
   ]
  },
  {
   "cell_type": "markdown",
   "metadata": {},
   "source": [
    "### Exercise 7:"
   ]
  },
  {
   "cell_type": "code",
   "execution_count": 549,
   "metadata": {},
   "outputs": [],
   "source": [
    "def cross_entropy(predict, target):\n",
    "    return np.sum(-target * np.log(predict))\n",
    "\n",
    "\n",
    "def cost(input, layers, activation_funcs, target):\n",
    "    predict = feed_forward_batch(input, layers, activation_funcs)\n",
    "    return cross_entropy(predict, target)"
   ]
  },
  {
   "cell_type": "code",
   "execution_count": 550,
   "metadata": {},
   "outputs": [],
   "source": [
    "from autograd import grad\n",
    "\n",
    "\n",
    "gradient_func = grad(\n",
    "    cost, 1\n",
    ")  # Taking the gradient wrt. the second input to the cost function, i.e. the layers"
   ]
  },
  {
   "cell_type": "markdown",
   "metadata": {},
   "source": [
    "#### a)\n",
    "\n",
    "The gradient of the cost function with respect to the weights and biases depends on the shapes of the corresponding weight matrices and bias vectors in each layer of the neural network. More specifically, for each layer, the gradient of the cost function with respect to the weights $(\\partial C/\\partial \\mathbf{W})$ will have the same shape as the weight matrix for that layer. Similarly, the gradient of the cost function with respect to the biases $(\\partial C/\\partial \\mathbf{b})$ will have the same shape as the bias vector for that layer."
   ]
  },
  {
   "cell_type": "markdown",
   "metadata": {},
   "source": [
    "#### b)"
   ]
  },
  {
   "cell_type": "code",
   "execution_count": 551,
   "metadata": {},
   "outputs": [
    {
     "name": "stderr",
     "output_type": "stream",
     "text": [
      "/Library/Frameworks/Python.framework/Versions/3.10/lib/python3.10/site-packages/autograd/tracer.py:48: RuntimeWarning: divide by zero encountered in log\n",
      "  return f_raw(*args, **kwargs)\n",
      "/Library/Frameworks/Python.framework/Versions/3.10/lib/python3.10/site-packages/autograd/tracer.py:48: RuntimeWarning: invalid value encountered in multiply\n",
      "  return f_raw(*args, **kwargs)\n",
      "/Library/Frameworks/Python.framework/Versions/3.10/lib/python3.10/site-packages/autograd/numpy/numpy_vjps.py:77: RuntimeWarning: divide by zero encountered in divide\n",
      "  defvjp(anp.log,    lambda ans, x : lambda g: g / x)\n",
      "/Library/Frameworks/Python.framework/Versions/3.10/lib/python3.10/site-packages/autograd/numpy/numpy_vjps.py:77: RuntimeWarning: invalid value encountered in divide\n",
      "  defvjp(anp.log,    lambda ans, x : lambda g: g / x)\n"
     ]
    }
   ],
   "source": [
    "layers_grad = gradient_func(\n",
    "    inputs, layers, activation_funcs, targets\n",
    ") "
   ]
  },
  {
   "cell_type": "code",
   "execution_count": 552,
   "metadata": {},
   "outputs": [
    {
     "name": "stdout",
     "output_type": "stream",
     "text": [
      "2\n",
      "2 2\n",
      "(4, 8) (8,) (8, 3) (3,)\n"
     ]
    }
   ],
   "source": [
    "print(len(layers_grad))\n",
    "print(len(layers_grad[0]), len(layers_grad[1]))\n",
    "print(layers_grad[0][0].shape, layers_grad[0][1].shape, layers_grad[1][0].shape, layers_grad[1][1].shape)"
   ]
  },
  {
   "cell_type": "markdown",
   "metadata": {},
   "source": [
    "The `grad` function from autograd computes the gradient of a given function with respect to its inputs. In this context, it computes the gradient of the cost function with respect to the weights and biases of the neural network. The object `layers_grad` should contain the gradients of the cost function with respect to the weights and biases for each layer in the network. These gradients should therefore have the same shape as the corresponding weights and biases for each layer, which we see is the case."
   ]
  },
  {
   "cell_type": "markdown",
   "metadata": {},
   "source": [
    "#### c)"
   ]
  },
  {
   "cell_type": "code",
   "execution_count": 553,
   "metadata": {},
   "outputs": [],
   "source": [
    "def train_network(inputs, layers, activation_funcs, targets, learning_rate = 0.001, epochs = 100):\n",
    "    for i in range(epochs):\n",
    "        layers_grad = gradient_func(inputs, layers, activation_funcs, targets)\n",
    "        for (W, b), (W_g, b_g) in zip(layers, layers_grad):\n",
    "            W -= learning_rate * W_g  \n",
    "            b -= learning_rate * b_g  "
   ]
  },
  {
   "cell_type": "markdown",
   "metadata": {},
   "source": [
    "The gradient method used in this training process is called Gradient Descent (specifically, Batch Gradient Descent) because we are computing the gradients of the cost function with respect to all weights and biases using the entire batch of inputs at once, and then updating the parameters using these gradients."
   ]
  },
  {
   "cell_type": "markdown",
   "metadata": {},
   "source": [
    "#### d)"
   ]
  },
  {
   "cell_type": "code",
   "execution_count": 554,
   "metadata": {},
   "outputs": [],
   "source": [
    "accuracies = np.zeros((2, 100))\n",
    "for i in range(100):\n",
    "    layers = create_layers_batch(4, [8, 3])\n",
    "    predictions_before = feed_forward_batch(inputs, layers, [sigmoid, softmax])\n",
    "\n",
    "    train_network(inputs, layers, [sigmoid, softmax], targets)\n",
    "    predictions_after = feed_forward_batch(inputs, layers, [sigmoid, softmax])\n",
    "\n",
    "    accuracies[0, i] = accuracy(predictions_before, targets)\n",
    "    accuracies[1, i] = accuracy(predictions_after, targets)"
   ]
  },
  {
   "cell_type": "code",
   "execution_count": 555,
   "metadata": {},
   "outputs": [
    {
     "data": {
      "image/png": "[encoded data removed]",
      "text/plain": [
       "<Figure size 900x500 with 1 Axes>"
      ]
     },
     "metadata": {},
     "output_type": "display_data"
    }
   ],
   "source": [
    "plt.figure(figsize = (9, 5))\n",
    "plt.scatter([i for i in range(100)], accuracies[0], c = \"#a0d9ef\", edgecolor = \"#62c1e5\", label = \"Before training\")\n",
    "plt.scatter([i for i in range(100)], accuracies[1], c = \"#ffaed7\", edgecolor = \"#ff77bc\", label = \"After training\")\n",
    "plt.axhline(np.mean(accuracies[0]), 0, 1, linestyle = \"--\", color = \"#62c1e5\")\n",
    "plt.axhline(np.mean(accuracies[1]), 0, 1, linestyle = \"--\", color = \"#ff77bc\")\n",
    "plt.legend()\n",
    "plt.show()"
   ]
  },
  {
   "cell_type": "markdown",
   "metadata": {},
   "source": [
    "#### e)\n",
    "\n",
    "The Iris dataset is relatively simple and well-separated. It's common for a well-configured neural network to achieve very high accuracy, often close to 100%, when using the entire dataset for training. We see in the figure above that quite a few of the accuracies are above 90%, although the mean lies below 80%."
   ]
  },
  {
   "cell_type": "markdown",
   "metadata": {},
   "source": [
    "## Exercise 2: Gradient with one layer using autograd"
   ]
  },
  {
   "cell_type": "markdown",
   "metadata": {},
   "source": [
    "### a)\n",
    "\n",
    "From last week we know that the gradient of the cost function with respect to the weights and biases depends on the shapes of the corresponding weight matrices and bias vectors in each layer of the neural network. More specifically, for each layer, the gradient of the cost function with respect to the weights $(\\partial C/\\partial \\mathbf{W})$ will have the same shape as the weight matrix for that layer. Similarly, the gradient of the cost function with respect to the biases $(\\partial C/\\partial \\mathbf{b})$ will have the same shape as the bias vector for that layer. In this specific case, $(\\partial C/\\partial \\mathbf{W})$ and $(\\partial C/\\partial \\mathbf{b})$ have shapes `(10,4)` and `(10)`, respectively."
   ]
  },
  {
   "cell_type": "markdown",
   "metadata": {},
   "source": [
    "### b)"
   ]
  },
  {
   "cell_type": "code",
   "execution_count": 556,
   "metadata": {},
   "outputs": [
    {
     "name": "stdout",
     "output_type": "stream",
     "text": [
      "Output of the feedforward pass: [0.81694443 0.85213222 0.84262374]\n",
      "Cost value: 0.3154400099594381\n"
     ]
    }
   ],
   "source": [
    "def feed_forward_one_layer(W, b, x):\n",
    "    z = W @ x + b  \n",
    "    a = sigmoid(z) \n",
    "    return a\n",
    "\n",
    "\n",
    "def cost_one_layer(W, b, x, target):\n",
    "    predict = feed_forward_one_layer(W, b, x)\n",
    "    return mse(predict, target)\n",
    "\n",
    "\n",
    "x = np.random.rand(2)\n",
    "target = np.random.rand(3)\n",
    "\n",
    "# Initialize W and b with random values\n",
    "W = np.random.rand(3, 2)  \n",
    "b = np.random.rand(3)  \n",
    "\n",
    "# Test the feedforward pass\n",
    "output = feed_forward_one_layer(W, b, x)\n",
    "print(\"Output of the feedforward pass:\", output)\n",
    "\n",
    "# Compute the cost\n",
    "cost_value = cost_one_layer(W, b, x, target)\n",
    "print(\"Cost value:\", cost_value)"
   ]
  },
  {
   "cell_type": "markdown",
   "metadata": {},
   "source": [
    "### c)"
   ]
  },
  {
   "cell_type": "code",
   "execution_count": 557,
   "metadata": {},
   "outputs": [
    {
     "name": "stdout",
     "output_type": "stream",
     "text": [
      "[[0.03662021 0.02163415]\n",
      " [0.04087283 0.02414647]\n",
      " [0.02856117 0.0168731 ]] [0.05163175 0.05762764 0.04026912]\n"
     ]
    }
   ],
   "source": [
    "autograd_one_layer = grad(cost_one_layer, [0, 1])\n",
    "W_g, b_g = autograd_one_layer(W, b, x, target)\n",
    "print(W_g, b_g)"
   ]
  },
  {
   "cell_type": "markdown",
   "metadata": {},
   "source": [
    "## Exercise 3: Gradient with one layer writing backpropagation by hand"
   ]
  },
  {
   "cell_type": "markdown",
   "metadata": {},
   "source": [
    "### a)\n",
    "\n",
    "With the chain rule we have\n",
    "$$\n",
    "\\begin{aligned}\n",
    "\\frac{\\text{d}C}{\\text{d}W} &= \\frac{\\text{d}C}{\\text{d}a} \\frac{\\text{d}a}{\\text{d}z} \\frac{\\text{d}z}{\\text{d}W},\n",
    "\\\\\n",
    "\\frac{\\text{d}C}{\\text{d}b} &= \\frac{\\text{d}C}{\\text{d}a} \\frac{\\text{d}a}{\\text{d}z} \\frac{\\text{d}z}{\\text{d}b}.\n",
    "\\end{aligned}\n",
    "$$\n",
    "In both expressions we the derivative of the cost function with respect to the final activation `a` ($\\text{d}C/\\text{d}a$), as well as the derivative of the activation with respect to the pre-activation value `z` ($\\text{d}a/\\text{d}z$). These intermediary results can thus be reused between the two expressions."
   ]
  },
  {
   "cell_type": "markdown",
   "metadata": {},
   "source": [
    "### b)\n",
    "\n",
    "To calculate the derivative of the cost with respect to the final activation, we first consider that the cost is defined through the MSE as \n",
    "$$\n",
    "C = \\frac{1}{N} \\sum\\left(a-y\\right)^2 = \\frac{1}{N}\\left( a - y \\right)^\\top\\left( a - y \\right),\n",
    "$$\n",
    "where $a$ is the final activation (vector), $y$ is the target vector and $N$ is the number of samples. The derivative with respect to $a$ is thus\n",
    "$$\n",
    "\\frac{\\text{d}C}{\\text{d}a} = \\frac{2}{N} (a - y)\n",
    "$$"
   ]
  },
  {
   "cell_type": "code",
   "execution_count": 558,
   "metadata": {},
   "outputs": [
    {
     "name": "stdout",
     "output_type": "stream",
     "text": [
      "[0.34525614 0.45735167 0.30366811]\n",
      "[0.34525614 0.45735167 0.30366811]\n",
      "True\n"
     ]
    }
   ],
   "source": [
    "z = W @ x + b\n",
    "a = sigmoid(z)\n",
    "\n",
    "predict = a\n",
    "\n",
    "def mse_der(predict, target):\n",
    "    return 2/len(target) * (predict - target)\n",
    "\n",
    "print(mse_der(predict, target))\n",
    "\n",
    "cost_autograd = grad(mse, 0)\n",
    "print(cost_autograd(predict, target))\n",
    "\n",
    "print(np.allclose(mse_der(predict, target), cost_autograd(predict, target)))"
   ]
  },
  {
   "cell_type": "markdown",
   "metadata": {},
   "source": [
    "### c)\n",
    "\n",
    "The sigmoid activation function is given by \n",
    "$$\n",
    "\\sigma(z) = \\frac{1}{1+e^{-z}},\n",
    "$$\n",
    "hence its derivative:\n",
    "$$\n",
    "\\frac{\\text{d}\\sigma}{\\text{d}z} = -\\frac{1}{\\left(1+e^{-z}\\right)^2}\\left(-e^{-z}\\right) = \\frac{e^{-z}}{\\left(1+e^{-z}\\right)^2}.\n",
    "$$"
   ]
  },
  {
   "cell_type": "code",
   "execution_count": 559,
   "metadata": {},
   "outputs": [
    {
     "name": "stdout",
     "output_type": "stream",
     "text": [
      "[0.14954623 0.1260029  0.13260897]\n",
      "[0.14954623 0.1260029  0.13260897]\n",
      "True\n"
     ]
    }
   ],
   "source": [
    "def sigmoid_der(z):\n",
    "    return np.exp(-z) / (1 + np.exp(-z))**2\n",
    "\n",
    "print(sigmoid_der(z))\n",
    "\n",
    "sigmoid_autograd = elementwise_grad(sigmoid, 0)\n",
    "print(sigmoid_autograd(z))\n",
    "\n",
    "print(np.allclose(sigmoid_der(z), sigmoid_autograd(z)))"
   ]
  },
  {
   "cell_type": "markdown",
   "metadata": {},
   "source": [
    "### d)\n",
    "\n",
    "The intermediary gradient when $a=\\sigma(z)$ is\n",
    "$$\n",
    "\\frac{\\text{d}C}{\\text{d}z} = \\frac{\\text{d}C}{\\text{d}a}\\frac{\\text{d}a}{\\text{d}z} = \\frac{2}{N} \\left(\\frac{1}{1+e^{-z}} - y\\right)\\frac{e^{-z}}{\\left(1+e^{-z}\\right)^2}.\n",
    "$$"
   ]
  },
  {
   "cell_type": "code",
   "execution_count": 560,
   "metadata": {},
   "outputs": [
    {
     "name": "stdout",
     "output_type": "stream",
     "text": [
      "[0.05163175 0.05762764 0.04026912]\n",
      "[0.05163175 0.05762764 0.04026912]\n"
     ]
    }
   ],
   "source": [
    "dC_da = mse_der(predict, target)\n",
    "da_dz = sigmoid_der(z) \n",
    "dC_dz = dC_da*da_dz\n",
    "print(dC_dz)\n",
    "\n",
    "def intermediary_grad(z, target):\n",
    "    N = len(target)\n",
    "    return (2/N) * (1/(1 + np.exp(-z)) - target) * np.exp(-z)/(1 + np.exp(-z))**2\n",
    "\n",
    "print(intermediary_grad(z, target))"
   ]
  },
  {
   "cell_type": "markdown",
   "metadata": {},
   "source": [
    "### e)\n",
    "\n",
    "The derivatives of $z=Wx+b$ with respect to the weigth $W$ and bias $b$ are\n",
    "$$\n",
    "\\begin{aligned}\n",
    "\\frac{\\text{d}z}{\\text{d}W} &= x,\n",
    "\\\\\n",
    "\\frac{\\text{d}z}{\\text{d}b} &= 1.\n",
    "\\end{aligned}\n",
    "$$\n",
    "The shapes of $\\text{d}z/\\text{d}W$ and $\\text{d}z/\\text{d}b$ should be the same as the shapes of $W$ and $b$, respectively. Thus, the rows of the matrix $\\text{d}z/\\text{d}W$ must all be equal to the (transposed) input vector $x$, while $\\text{d}z/\\text{d}b$ must be a column vector of only ones with equal length as the bias $b$."
   ]
  },
  {
   "cell_type": "code",
   "execution_count": 561,
   "metadata": {},
   "outputs": [
    {
     "name": "stdout",
     "output_type": "stream",
     "text": [
      "(3,)\n",
      "(2,)\n",
      "(3, 2)\n",
      "(3,)\n",
      "(3, 2)\n",
      "(3,)\n",
      "True\n",
      "True\n"
     ]
    }
   ],
   "source": [
    "print(z.shape)\n",
    "print(x.shape)\n",
    "print(W.shape)\n",
    "print(b.shape)\n",
    "\n",
    "grad_W = elementwise_grad(lambda x, W, b: W @ x + b, 1)\n",
    "grad_b = elementwise_grad(lambda x, W, b: W @ x + b, 2)\n",
    "\n",
    "print(grad_W(x, W, b).shape)\n",
    "print(grad_b(x, W, b).shape)\n",
    "\n",
    "print(np.allclose(np.array([x, x, x]), grad_W(x, W, b)))\n",
    "print(np.allclose(np.ones(len(b)), grad_b(x, W, b)))"
   ]
  },
  {
   "cell_type": "markdown",
   "metadata": {},
   "source": [
    "### f)"
   ]
  },
  {
   "cell_type": "code",
   "execution_count": 562,
   "metadata": {},
   "outputs": [
    {
     "name": "stdout",
     "output_type": "stream",
     "text": [
      "[[0.03662021 0.02163415]\n",
      " [0.04087283 0.02414647]\n",
      " [0.02856117 0.0168731 ]] [0.05163175 0.05762764 0.04026912]\n",
      "[[0.03662021 0.02163415]\n",
      " [0.04087283 0.02414647]\n",
      " [0.02856117 0.0168731 ]] [0.05163175 0.05762764 0.04026912]\n",
      "True True\n"
     ]
    }
   ],
   "source": [
    "dC_da = mse_der(predict, target)\n",
    "dC_dz = dC_da * sigmoid_der(z)\n",
    "dC_dW = dC_dz[..., None] * grad_W(x, W, b)\n",
    "dC_db = dC_dz * grad_b(x, W, b)\n",
    "print(dC_dW, dC_db)\n",
    "\n",
    "W_g, b_g = autograd_one_layer(W, b, x, target)\n",
    "print(W_g, b_g)\n",
    "\n",
    "print(np.allclose(dC_dW, W_g), np.allclose(dC_db, b_g))"
   ]
  },
  {
   "cell_type": "markdown",
   "metadata": {},
   "source": [
    "## Exercise 4: Gradient with two layers writing backpropagation by hand"
   ]
  },
  {
   "cell_type": "code",
   "execution_count": 563,
   "metadata": {},
   "outputs": [],
   "source": [
    "x = np.random.rand(2)\n",
    "target = np.random.rand(4)\n",
    "\n",
    "W1 = np.random.rand(3, 2)\n",
    "b1 = np.random.rand(3)\n",
    "\n",
    "W2 = np.random.rand(4, 3)\n",
    "b2 = np.random.rand(4)\n",
    "\n",
    "layers = [(W1, b1), (W2, b2)]"
   ]
  },
  {
   "cell_type": "code",
   "execution_count": 564,
   "metadata": {},
   "outputs": [],
   "source": [
    "z1 = W1 @ x + b1\n",
    "a1 = sigmoid(z1)\n",
    "z2 = W2 @ a1 + b2\n",
    "a2 = sigmoid(z2)"
   ]
  },
  {
   "cell_type": "markdown",
   "metadata": {},
   "source": [
    "### a)"
   ]
  },
  {
   "cell_type": "code",
   "execution_count": 565,
   "metadata": {},
   "outputs": [],
   "source": [
    "dC_da2 = mse_der(a2, target)\n",
    "dC_dz2 = dC_da2 * sigmoid_der(z2)\n",
    "dC_dW2 = dC_dz2[..., None] * grad_W(a1, W2, b2)\n",
    "dC_db2 = dC_dz2 * grad_b(a1, W2, b2)"
   ]
  },
  {
   "cell_type": "markdown",
   "metadata": {},
   "source": [
    "### b)\n",
    "\n",
    "The second layer intermediate is given by \n",
    "$$\n",
    "z_2 = W_2a_1 + b_2,\n",
    "$$\n",
    "hence the derivative\n",
    "$$\n",
    "\\frac{\\text{d}z_2}{\\text{d}a_1} = W_2\n",
    "$$"
   ]
  },
  {
   "cell_type": "markdown",
   "metadata": {},
   "source": [
    "### c)"
   ]
  },
  {
   "cell_type": "code",
   "execution_count": 566,
   "metadata": {},
   "outputs": [],
   "source": [
    "dC_da1 = dC_dz2 @ W2\n",
    "dC_dz1 = dC_da1 * sigmoid_der(z1)\n",
    "dC_dW1 = dC_dz1[..., None] * grad_W(x, W1, b1)\n",
    "dC_db1 = dC_dz1 * grad_b(x, W1, b1)"
   ]
  },
  {
   "cell_type": "code",
   "execution_count": 567,
   "metadata": {},
   "outputs": [
    {
     "name": "stdout",
     "output_type": "stream",
     "text": [
      "[[0.00214988 0.01049526]\n",
      " [0.00089597 0.00437393]\n",
      " [0.00207304 0.01012016]] [0.01959684 0.00816703 0.01889644]\n",
      "[[0.01069712 0.00980507 0.01111649]\n",
      " [0.03957293 0.03627288 0.04112436]\n",
      " [0.00989957 0.00907402 0.01028767]\n",
      " [0.01695396 0.01554014 0.01761863]] [0.01813202 0.06707761 0.01678013 0.02873761]\n"
     ]
    }
   ],
   "source": [
    "print(dC_dW1, dC_db1)\n",
    "print(dC_dW2, dC_db2)"
   ]
  },
  {
   "cell_type": "markdown",
   "metadata": {},
   "source": [
    "### d)"
   ]
  },
  {
   "cell_type": "code",
   "execution_count": 568,
   "metadata": {},
   "outputs": [],
   "source": [
    "def feed_forward_two_layers(layers, x):\n",
    "    W1, b1 = layers[0]\n",
    "    z1 = W1 @ x + b1\n",
    "    a1 = sigmoid(z1)\n",
    "\n",
    "    W2, b2 = layers[1]\n",
    "    z2 = W2 @ a1 + b2\n",
    "    a2 = sigmoid(z2)\n",
    "\n",
    "    return a2"
   ]
  },
  {
   "cell_type": "code",
   "execution_count": 569,
   "metadata": {},
   "outputs": [
    {
     "name": "stdout",
     "output_type": "stream",
     "text": [
      "True True True True\n"
     ]
    }
   ],
   "source": [
    "def cost_two_layers(layers, x, target):\n",
    "    predict = feed_forward_two_layers(layers, x)\n",
    "    return mse(predict, target)\n",
    "\n",
    "grad_two_layers = grad(cost_two_layers, 0)\n",
    "grad1, grad2 = grad_two_layers(layers, x, target)\n",
    "print(np.allclose(grad1[0], dC_dW1), np.allclose(grad1[1], dC_db1), np.allclose(grad2[0], dC_dW2), np.allclose(grad2[1], dC_db2))"
   ]
  },
  {
   "cell_type": "markdown",
   "metadata": {},
   "source": [
    "### e)\n",
    "\n",
    "If we have $n$ layers (including the input and output layers), the expressions for the gradients at layer $i$, where $i-1\\neq1$ and $i+1\\neq n$, are\n",
    "$$\n",
    "\\begin{aligned}\n",
    "\\frac{\\text{d}C}{\\text{d}a_i} &= \\frac{\\text{d}C}{\\text{d}z_{i+1}}\\frac{\\text{d}z_{i+1}}{\\text{d}a_i} = \\frac{\\text{d}C}{\\text{d}z_{i+1}}W_{i+1},\n",
    "\\\\\n",
    "\\frac{\\text{d}C}{\\text{d}z_i} &= \\frac{\\text{d}C}{\\text{d}a_i}\\frac{\\text{d}a_{i}}{\\text{d}z_i} = \\frac{\\text{d}C}{\\text{d}z_{i+1}}W_{i+1}\\frac{\\text{d}a_{i}}{\\text{d}z_i},\n",
    "\\\\\n",
    "\\frac{\\text{d}C}{\\text{d}W_i} &= \\frac{\\text{d}C}{\\text{d}z_i}\\frac{\\text{d}z_{i}}{\\text{d}W_i} = \\frac{\\text{d}C}{\\text{d}z_{i+1}}W_{i+1}\\frac{\\text{d}a_{i}}{\\text{d}z_i}a_{i-1},\n",
    "\\\\\n",
    "\\frac{\\text{d}C}{\\text{d}b_i} &= \\frac{\\text{d}C}{\\text{d}z_i}\\frac{\\text{d}z_{i}}{\\text{d}b_i} = \\frac{\\text{d}C}{\\text{d}z_i}.\n",
    "\\end{aligned}\n",
    "$$"
   ]
  },
  {
   "cell_type": "markdown",
   "metadata": {},
   "source": [
    "## Exercise 5: Gradient with any number of layers writing backpropagation by hand"
   ]
  },
  {
   "cell_type": "code",
   "execution_count": 691,
   "metadata": {},
   "outputs": [],
   "source": [
    "def create_layers(network_input_size, layer_output_sizes):\n",
    "    layers = []\n",
    "\n",
    "    i_size = network_input_size\n",
    "    for layer_output_size in layer_output_sizes:\n",
    "        W = np.random.randn(layer_output_size, i_size)\n",
    "        b = np.random.randn(layer_output_size)\n",
    "        layers.append((W, b))\n",
    "\n",
    "        i_size = layer_output_size\n",
    "    return layers\n",
    "\n",
    "\n",
    "def feed_forward(input, layers, activation_funcs):\n",
    "    a = input\n",
    "    for (W, b), activation_func in zip(layers, activation_funcs):\n",
    "        z = W @ a + b\n",
    "        a = activation_func(z)\n",
    "    return a\n",
    "\n",
    "\n",
    "def cost(layers, input, activation_funcs, target):\n",
    "    predict = feed_forward(input, layers, activation_funcs)\n",
    "    return mse(predict, target)"
   ]
  },
  {
   "cell_type": "code",
   "execution_count": 692,
   "metadata": {},
   "outputs": [],
   "source": [
    "def feed_forward_saver(input, layers, activation_funcs):\n",
    "    layer_inputs = []\n",
    "    zs = []\n",
    "    a = input\n",
    "    for (W, b), activation_func in zip(layers, activation_funcs):\n",
    "        layer_inputs.append(a)\n",
    "        z = W @ a + b\n",
    "        a = activation_func(z)\n",
    "\n",
    "        zs.append(z)\n",
    "\n",
    "    return layer_inputs, zs, a"
   ]
  },
  {
   "cell_type": "code",
   "execution_count": 693,
   "metadata": {},
   "outputs": [],
   "source": [
    "def backpropagation(\n",
    "    input, layers, activation_funcs, target, activation_ders, cost_der = mse_der\n",
    "):\n",
    "    layer_inputs, zs, predict = feed_forward_saver(input, layers, activation_funcs)\n",
    "\n",
    "    layer_grads = [() for layer in layers]\n",
    "\n",
    "    # We loop over the layers, from the last to the first\n",
    "    for i in reversed(range(len(layers))):\n",
    "        layer_input, z, activation_der = layer_inputs[i], zs[i], activation_ders[i]\n",
    "\n",
    "        if i == len(layers) - 1:\n",
    "            # For last layer we use cost derivative as dC_da(L) can be computed directly\n",
    "            dC_da = cost_der(predict, target)\n",
    "        else:\n",
    "            # For other layers we build on previous z derivative, as dC_da(i) = dC_dz(i+1) * dz(i+1)_da(i)\n",
    "            (W, b) = layers[i + 1]\n",
    "            dC_da = dC_dz @ W\n",
    "\n",
    "        dC_dz = dC_da * activation_der(z)\n",
    "        dC_dW = dC_dz[..., None] * layer_input\n",
    "        dC_db = dC_dz\n",
    "\n",
    "        layer_grads[i] = (dC_dW, dC_db)\n",
    "\n",
    "    return layer_grads"
   ]
  },
  {
   "cell_type": "code",
   "execution_count": 694,
   "metadata": {},
   "outputs": [],
   "source": [
    "network_input_size = 2\n",
    "layer_output_sizes = [3, 4]\n",
    "activation_funcs = [sigmoid, ReLU]\n",
    "activation_ders = [sigmoid_der, ReLU_der]\n",
    "\n",
    "layers = create_layers(network_input_size, layer_output_sizes)\n",
    "\n",
    "x = np.random.rand(network_input_size)\n",
    "target = np.random.rand(4)"
   ]
  },
  {
   "cell_type": "code",
   "execution_count": 695,
   "metadata": {},
   "outputs": [
    {
     "name": "stdout",
     "output_type": "stream",
     "text": [
      "[(array([[-0.01196789, -0.03777651],\n",
      "       [-0.02445443, -0.07719015],\n",
      "       [ 0.00431774,  0.01362889]]), array([-0.04659636, -0.09521209,  0.01681089])), (array([[-0.        , -0.        , -0.        ],\n",
      "       [ 0.68285324,  0.78326549,  0.49253331],\n",
      "       [-0.        , -0.        , -0.        ],\n",
      "       [ 0.41395977,  0.47483176,  0.29858389]]), array([-0.        ,  0.9495006 , -0.        ,  0.57560692]))]\n"
     ]
    }
   ],
   "source": [
    "layer_grads = backpropagation(x, layers, activation_funcs, target, activation_ders)\n",
    "print(layer_grads)"
   ]
  },
  {
   "cell_type": "code",
   "execution_count": 696,
   "metadata": {},
   "outputs": [
    {
     "name": "stdout",
     "output_type": "stream",
     "text": [
      "[(array([[-0.01196789, -0.03777651],\n",
      "       [-0.02445443, -0.07719015],\n",
      "       [ 0.00431774,  0.01362889]]), array([-0.04659636, -0.09521209,  0.01681089])), (array([[0.        , 0.        , 0.        ],\n",
      "       [0.68285324, 0.78326549, 0.49253331],\n",
      "       [0.        , 0.        , 0.        ],\n",
      "       [0.41395977, 0.47483176, 0.29858389]]), array([0.        , 0.9495006 , 0.        , 0.57560692]))]\n"
     ]
    }
   ],
   "source": [
    "cost_grad = grad(cost, 0)\n",
    "layer_grads_auto = cost_grad(layers, x, [sigmoid, ReLU], target)\n",
    "print(layer_grads_auto)"
   ]
  },
  {
   "cell_type": "code",
   "execution_count": 697,
   "metadata": {},
   "outputs": [
    {
     "name": "stdout",
     "output_type": "stream",
     "text": [
      "True True True True\n"
     ]
    }
   ],
   "source": [
    "print(np.allclose(layer_grads[0][0], layer_grads_auto[0][0]), np.allclose(layer_grads[0][1], layer_grads_auto[0][1]), np.allclose(layer_grads[1][0], layer_grads_auto[1][0]), np.allclose(layer_grads[1][1], layer_grads_auto[1][1]))"
   ]
  },
  {
   "cell_type": "markdown",
   "metadata": {},
   "source": [
    "## Exercise 6: Batched inputs"
   ]
  },
  {
   "cell_type": "code",
   "execution_count": 826,
   "metadata": {},
   "outputs": [],
   "source": [
    "def create_layers_batch(network_input_size, layer_output_sizes):\n",
    "    layers = []\n",
    "\n",
    "    i_size = network_input_size\n",
    "    for layer_output_size in layer_output_sizes:\n",
    "        W = np.random.randn(i_size, layer_output_size)\n",
    "        b = np.random.randn(layer_output_size) \n",
    "        layers.append((W, b))\n",
    "\n",
    "        i_size = layer_output_size\n",
    "    return layers\n",
    "\n",
    "def feed_forward_batch(inputs, layers, activation_funcs):\n",
    "    a = inputs\n",
    "    for (W, b), activation_func in zip(layers, activation_funcs):\n",
    "        z = a @ W + b\n",
    "        a = activation_func(z)\n",
    "    return a\n",
    "\n",
    "def cost_batch(inputs, layers, activation_funcs, target):\n",
    "    predicts = feed_forward_batch(inputs, layers, activation_funcs)\n",
    "    return mse(predicts, target)"
   ]
  },
  {
   "cell_type": "code",
   "execution_count": 827,
   "metadata": {},
   "outputs": [],
   "source": [
    "def feed_forward_saver_batch(inputs, layers, activation_funcs):\n",
    "    layers_inputs = []\n",
    "    zs = []\n",
    "    a = inputs\n",
    "    for (W, b), activation_func in zip(layers, activation_funcs):\n",
    "        layers_inputs.append(a)\n",
    "        z = a @ W + b\n",
    "        a = activation_func(z)\n",
    "\n",
    "        zs.append(z)\n",
    "\n",
    "    return layers_inputs, zs, a"
   ]
  },
  {
   "cell_type": "code",
   "execution_count": 842,
   "metadata": {},
   "outputs": [],
   "source": [
    "def backpropagation_batch(\n",
    "    inputs, layers, activation_funcs, targets, activation_ders, cost_der = mse_der\n",
    "):\n",
    "    #TODO something wrong with this function?\n",
    "    layers_inputs, zs, predicts = feed_forward_saver_batch(inputs, layers, activation_funcs)\n",
    "\n",
    "    layers_grads = [() for layer in layers]\n",
    "\n",
    "    # We loop over the layers, from the last to the first\n",
    "    for i in reversed(range(len(layers))):\n",
    "        layer_inputs, z, activation_der = layers_inputs[i], zs[i], activation_ders[i]\n",
    "\n",
    "        if i == len(layers) - 1:\n",
    "            # For last layer we use cost derivative as dC_da(L) can be computed directly\n",
    "            dC_da = cost_der(predicts, targets)\n",
    "            # print(\"dC_da \", dC_da.shape, dC_da)\n",
    "        else:\n",
    "            # For other layers we build on previous z derivative, as dC_da(i) = dC_dz(i+1) * dz(i+1)_da(i)\n",
    "            (W, b) = layers[i + 1]\n",
    "            dC_da = dC_dz @ W.T\n",
    "\n",
    "        dC_dz = dC_da * activation_der(z)\n",
    "        dC_dW = dC_dz.T @ layer_inputs\n",
    "        dC_db = np.sum(dC_dz, axis = 0)\n",
    "\n",
    "        layers_grads[i] = (dC_dW.T, dC_db.T)\n",
    "\n",
    "    return layers_grads"
   ]
  },
  {
   "cell_type": "markdown",
   "metadata": {},
   "source": [
    "## Exercise 7: Training"
   ]
  },
  {
   "cell_type": "markdown",
   "metadata": {},
   "source": [
    "### a)"
   ]
  },
  {
   "cell_type": "code",
   "execution_count": 829,
   "metadata": {},
   "outputs": [
    {
     "data": {
      "image/png": "[encoded data removed]",
      "text/plain": [
       "<Figure size 900x500 with 1 Axes>"
      ]
     },
     "metadata": {},
     "output_type": "display_data"
    }
   ],
   "source": [
    "iris = datasets.load_iris()\n",
    "\n",
    "_, ax = plt.subplots(figsize = (9, 5))\n",
    "scatter = ax.scatter(iris.data[:, 0], iris.data[:, 1], c=iris.target)\n",
    "ax.set(xlabel=iris.feature_names[0], ylabel=iris.feature_names[1])\n",
    "_ = ax.legend(\n",
    "    scatter.legend_elements()[0], iris.target_names, loc=\"lower right\", title=\"Classes\"\n",
    ")"
   ]
  },
  {
   "cell_type": "code",
   "execution_count": 830,
   "metadata": {},
   "outputs": [],
   "source": [
    "inputs = iris.data\n",
    "\n",
    "# Since each prediction is a vector with a score for each of the three types of flowers,\n",
    "# we need to make each target a vector with a 1 for the correct flower and a 0 for the others.\n",
    "targets = np.zeros((len(iris.data), 3))\n",
    "for i, t in enumerate(iris.target):\n",
    "    targets[i, t] = 1\n",
    "\n",
    "def accuracy(predicts, targets):\n",
    "    one_hot_predicts = np.zeros(predicts.shape)\n",
    "\n",
    "    for i, predict in enumerate(predicts):\n",
    "        one_hot_predicts[i, np.argmax(predict)] = 1\n",
    "    return accuracy_score(one_hot_predicts, targets)"
   ]
  },
  {
   "cell_type": "code",
   "execution_count": 831,
   "metadata": {},
   "outputs": [],
   "source": [
    "layers = create_layers_batch(4, [8, 3])\n",
    "predicts = feed_forward_batch(inputs, layers, [sigmoid, softmax])"
   ]
  },
  {
   "cell_type": "code",
   "execution_count": 832,
   "metadata": {},
   "outputs": [
    {
     "name": "stdout",
     "output_type": "stream",
     "text": [
      "0.14666666666666667\n"
     ]
    }
   ],
   "source": [
    "# Compute the accuracy using the one-hot encoded targets\n",
    "print(accuracy(predicts, targets))"
   ]
  },
  {
   "cell_type": "code",
   "execution_count": 833,
   "metadata": {},
   "outputs": [
    {
     "name": "stdout",
     "output_type": "stream",
     "text": [
      "0.37333333333333335\n",
      "0.0\n",
      "0.38666666666666666\n",
      "0.32666666666666666\n",
      "0.20666666666666667\n"
     ]
    }
   ],
   "source": [
    "for i in range(5):\n",
    "    layers = create_layers_batch(4, [8, 3])\n",
    "    predicts = feed_forward_batch(inputs, layers, [sigmoid, softmax])\n",
    "    print(accuracy(predicts, targets))"
   ]
  },
  {
   "cell_type": "code",
   "execution_count": 834,
   "metadata": {},
   "outputs": [],
   "source": [
    "def cross_entropy(predicts, targets):\n",
    "    return np.sum(-targets * np.log(predicts))\n",
    "\n",
    "def cost_cross(inputs, layers, activation_funcs, targets):\n",
    "    predicts = feed_forward_batch(inputs, layers, activation_funcs)\n",
    "    return cross_entropy(predicts, targets)\n",
    "\n",
    "cross_der = elementwise_grad(cross_entropy, 0)\n",
    "cross_cost_grad = grad(cost_cross, 1)"
   ]
  },
  {
   "cell_type": "code",
   "execution_count": 835,
   "metadata": {},
   "outputs": [
    {
     "name": "stdout",
     "output_type": "stream",
     "text": [
      "[(array([[ 4.46329551e-01, -9.86445151e+00, -3.37637120e-02,\n",
      "         3.25457019e-01,  8.35440192e-01,  3.11763641e-01,\n",
      "         4.86574443e-06, -1.01106322e+01],\n",
      "       [ 3.67599657e-01, -2.35540084e+00,  2.06234318e-02,\n",
      "         2.06698670e-01,  4.97205895e-01,  2.64073262e-01,\n",
      "         2.39717589e-06, -7.49541608e+00],\n",
      "       [-5.14927732e-01, -9.76943185e+00, -2.56799300e-01,\n",
      "         1.35095842e-01,  4.21273445e-01, -5.60492552e-03,\n",
      "         3.52958800e-06, -1.62079103e+00],\n",
      "       [-7.40988990e-01, -2.80523438e+00, -1.81466720e-01,\n",
      "         2.29067025e-02,  9.69583683e-02, -5.36820939e-04,\n",
      "         1.10136015e-06,  1.34601817e-01]]), array([ 2.81143449e-01, -1.47937950e+00,  3.04616152e-02,  7.76093786e-02,\n",
      "        1.79015975e-01,  2.55683411e-02,  9.74061215e-07, -2.22914355e+00])), (array([[ 2.00846971e+00, -7.21710334e-01, -1.87150498e+00],\n",
      "       [ 4.51682083e+00, -4.78494909e-01, -5.25504162e+00],\n",
      "       [-3.84200480e-02, -2.17445639e-02,  1.26151017e-02],\n",
      "       [ 2.21199228e-01, -8.37984765e-02, -1.31242666e-01],\n",
      "       [ 2.61517850e-01, -5.87161230e-02, -1.81695828e-01],\n",
      "       [ 3.93541692e-02, -7.01756813e-02,  4.51179608e-02],\n",
      "       [ 8.60676729e-08, -1.47637942e-06,  9.80001480e-08],\n",
      "       [-1.18616218e+01,  7.14190103e+00,  6.39269097e+00]]), array([-1.19348975e-15,  5.49560397e-15,  1.33226763e-14]))]\n"
     ]
    }
   ],
   "source": [
    "layers_grads_auto = cross_cost_grad(inputs, layers, [sigmoid, softmax], targets)\n",
    "print(layers_grads_auto)"
   ]
  },
  {
   "cell_type": "code",
   "execution_count": 843,
   "metadata": {},
   "outputs": [
    {
     "name": "stdout",
     "output_type": "stream",
     "text": [
      "[(array([[-5.04211389e-20,  9.22951450e-18,  4.15954148e-18,\n",
      "        -1.11255240e-22, -5.95272824e-18, -5.27639931e-18,\n",
      "        -3.10604035e-21,  1.90499974e-23],\n",
      "       [-2.41056248e-20,  6.23400738e-18,  2.83804006e-18,\n",
      "        -7.99777079e-23, -3.96410943e-18, -2.53097622e-18,\n",
      "        -2.18442102e-21, -1.33148229e-23],\n",
      "       [-4.28371568e-20,  1.72003046e-18,  7.35698625e-19,\n",
      "         1.96024278e-23, -9.94918516e-19, -3.84285081e-18,\n",
      "        -6.30683624e-22,  1.14138803e-22],\n",
      "       [-1.47722265e-20,  2.56176059e-19,  8.38258540e-20,\n",
      "         2.39478742e-23, -1.40452550e-19, -1.21243863e-18,\n",
      "        -3.05369184e-23,  5.30702899e-23]]), array([-1.01055055e-20,  1.52929087e-18,  7.04568093e-19, -2.64555876e-23,\n",
      "       -9.97026926e-19, -9.32024700e-19, -6.24794849e-22,  3.00675426e-24])), (array([[-4.28069808e-18,  5.09350711e-18,  1.23647038e-18],\n",
      "       [-1.31898118e-18,  4.87334670e-18,  1.26338485e-18],\n",
      "       [-7.69685079e-19,  1.62992042e-20, -1.79993839e-21],\n",
      "       [-4.28073614e-18,  5.09658585e-18,  1.23303209e-18],\n",
      "       [-3.54506048e-18,  9.72546687e-19,  5.94054005e-21],\n",
      "       [ 7.71264760e-21,  3.71146318e-18,  1.29062650e-18],\n",
      "       [-1.35918321e-21,  6.20447041e-22, -1.00855442e-22],\n",
      "       [-4.28062924e-18,  5.09653596e-18,  1.23303494e-18]]), array([-4.28075715e-18,  5.09663284e-18,  1.23300831e-18]))]\n"
     ]
    }
   ],
   "source": [
    "softmax_der = elementwise_grad(softmax, 0)\n",
    "activation_ders = [sigmoid_der, softmax_der]\n",
    "\n",
    "layers_grads = backpropagation_batch(\n",
    "    inputs, layers, activation_funcs, targets, activation_ders\n",
    ") \n",
    "print(layers_grads)"
   ]
  },
  {
   "cell_type": "code",
   "execution_count": 844,
   "metadata": {},
   "outputs": [
    {
     "name": "stdout",
     "output_type": "stream",
     "text": [
      "2\n",
      "2 2\n",
      "(4, 8) (8,) (8, 3) (3,)\n"
     ]
    }
   ],
   "source": [
    "print(len(layers_grads))\n",
    "print(len(layers_grads[0]), len(layers_grads[1]))\n",
    "print(layers_grads[0][0].shape, layers_grads[0][1].shape, layers_grads[1][0].shape, layers_grads[1][1].shape)"
   ]
  },
  {
   "cell_type": "code",
   "execution_count": 845,
   "metadata": {},
   "outputs": [],
   "source": [
    "def train_network_batch(inputs, layers, activation_funcs, targets, activation_ders, cost_der = mse_der, learning_rate = 0.001, epochs = 100):\n",
    "    for i in range(epochs):\n",
    "        layers_grads = backpropagation_batch(inputs, layers, activation_funcs, targets, activation_ders, cost_der = cost_der)\n",
    "        # gradient_func = grad(\n",
    "        #     cost_cross, 1\n",
    "        # )  # Taking the gradient wrt. the second input to the cost function, i.e. the layers\n",
    "        # layers_grads = gradient_func(inputs, layers, activation_funcs, targets)\n",
    "        for (W, b), (W_g, b_g) in zip(layers, layers_grads):\n",
    "            # print(W_g[0], b_g[0])\n",
    "            W -= learning_rate * W_g  \n",
    "            b -= learning_rate * b_g  "
   ]
  },
  {
   "cell_type": "code",
   "execution_count": 848,
   "metadata": {},
   "outputs": [],
   "source": [
    "accuracies = np.zeros((2, 100))\n",
    "for i in range(100):\n",
    "    layers = create_layers_batch(4, [8, 3])\n",
    "    predicts_before = feed_forward_batch(inputs, layers, [sigmoid, softmax])\n",
    "\n",
    "    train_network_batch(inputs, layers, [sigmoid, softmax], targets, activation_ders)\n",
    "    predicts_after = feed_forward_batch(inputs, layers, [sigmoid, softmax])\n",
    "\n",
    "    accuracies[0, i] = accuracy(predicts_before, targets)\n",
    "    accuracies[1, i] = accuracy(predicts_after, targets)"
   ]
  },
  {
   "cell_type": "code",
   "execution_count": 850,
   "metadata": {},
   "outputs": [
    {
     "data": {
      "image/png": "[encoded data removed]",
      "text/plain": [
       "<Figure size 900x500 with 1 Axes>"
      ]
     },
     "metadata": {},
     "output_type": "display_data"
    }
   ],
   "source": [
    "plt.figure(figsize = (9, 5))\n",
    "plt.scatter([i for i in range(100)], accuracies[0], c = \"#a0d9ef\", edgecolor = \"#62c1e5\", label = \"Before training\")\n",
    "plt.scatter([i for i in range(100)], accuracies[1], c = \"#ffaed7\", edgecolor = \"#ff77bc\", label = \"After training\")\n",
    "plt.axhline(np.mean(accuracies[0]), 0, 1, linestyle = \"--\", color = \"#62c1e5\")\n",
    "plt.axhline(np.mean(accuracies[1]), 0, 1, linestyle = \"--\", color = \"#ff77bc\")\n",
    "plt.legend()\n",
    "plt.show()"
   ]
  },
  {
   "cell_type": "code",
   "execution_count": 591,
   "metadata": {},
   "outputs": [],
   "source": [
    "#TODO something wrong with gradients, W_g and b_g are very small"
   ]
  },
  {
   "cell_type": "markdown",
   "metadata": {},
   "source": [
    "### b)"
   ]
  },
  {
   "cell_type": "code",
   "execution_count": 856,
   "metadata": {},
   "outputs": [],
   "source": [
    "def train_network_sgd_with_momentum(input_data, layers, activation_funcs, target_data, activation_ders, cost_der = mse_der, batch_size = 32, learning_rate = 0.001, momentum = 0.9, epochs = 100):\n",
    "    # Initialize velocity for each layer to zero\n",
    "    velocities = [(np.zeros_like(W), np.zeros_like(b)) for W, b in layers]\n",
    "    \n",
    "    for epoch in range(epochs):\n",
    "        # Shuffle the data\n",
    "        indices = np.random.permutation(len(input_data))\n",
    "        input_data, target_data = input_data[indices], target_data[indices]\n",
    "        \n",
    "        for start in range(0, len(input_data), batch_size):\n",
    "            # Get a mini-batch\n",
    "            end = start + batch_size\n",
    "            inputs = input_data[start:end]\n",
    "            targets = target_data[start:end]\n",
    "            \n",
    "            # Compute gradients using backpropagation\n",
    "            layers_grads = backpropagation_batch(inputs, layers, activation_funcs, targets, activation_ders, cost_der = cost_der)\n",
    "            \n",
    "            # Update weights and biases with momentum\n",
    "            for i, (W, b) in enumerate(layers):\n",
    "                W_g, b_g = layers_grads[i]  # Get gradients for layer i\n",
    "                \n",
    "                # Update velocities\n",
    "                vW, vb = velocities[i]\n",
    "                vW = momentum * vW - learning_rate * W_g  # Momentum update for weights\n",
    "                vb = momentum * vb - learning_rate * b_g  # Momentum update for biases\n",
    "                \n",
    "                # Update parameters\n",
    "                layers[i] = (W + vW, b + vb)\n",
    "                \n",
    "                # Store updated velocities\n",
    "                velocities[i] = (vW, vb)"
   ]
  },
  {
   "cell_type": "code",
   "execution_count": 857,
   "metadata": {},
   "outputs": [],
   "source": [
    "accuracies = np.zeros((2, 100))\n",
    "for i in range(100):\n",
    "    layers = create_layers_batch(4, [8, 3])\n",
    "    predicts_before = feed_forward_batch(inputs, layers, [sigmoid, softmax])\n",
    "\n",
    "    train_network_sgd_with_momentum(inputs, layers, [sigmoid, softmax], targets, activation_ders)\n",
    "    predicts_after = feed_forward_batch(inputs, layers, [sigmoid, softmax])\n",
    "\n",
    "    accuracies[0, i] = accuracy(predicts_before, targets)\n",
    "    accuracies[1, i] = accuracy(predicts_after, targets)"
   ]
  },
  {
   "cell_type": "code",
   "execution_count": 858,
   "metadata": {},
   "outputs": [
    {
     "data": {
      "image/png": "[encoded data removed]",
      "text/plain": [
       "<Figure size 900x500 with 1 Axes>"
      ]
     },
     "metadata": {},
     "output_type": "display_data"
    }
   ],
   "source": [
    "plt.figure(figsize = (9, 5))\n",
    "plt.scatter([i for i in range(100)], accuracies[0], c = \"#a0d9ef\", edgecolor = \"#62c1e5\", label = \"Before training\")\n",
    "plt.scatter([i for i in range(100)], accuracies[1], c = \"#ffaed7\", edgecolor = \"#ff77bc\", label = \"After training\")\n",
    "plt.axhline(np.mean(accuracies[0]), 0, 1, linestyle = \"--\", color = \"#62c1e5\")\n",
    "plt.axhline(np.mean(accuracies[1]), 0, 1, linestyle = \"--\", color = \"#ff77bc\")\n",
    "plt.legend()\n",
    "plt.show()"
   ]
  },
  {
   "cell_type": "code",
   "execution_count": null,
   "metadata": {},
   "outputs": [],
   "source": [
    "#TODO something wrong with batched backpropagation"
   ]
  },
  {
   "cell_type": "markdown",
   "metadata": {},
   "source": [
    "## Exercise 8: Object orientation"
   ]
  },
  {
   "cell_type": "code",
   "execution_count": 873,
   "metadata": {},
   "outputs": [],
   "source": [
    "class NeuralNetwork:\n",
    "    def __init__(self, network_input_size, layer_output_sizes, activation_funcs, activation_ders, cost_func, cost_der):\n",
    "        # Initialize network structure and hyperparameters\n",
    "        self.layers = self.create_layers(network_input_size, layer_output_sizes)\n",
    "        self.activation_funcs = activation_funcs\n",
    "        self.activation_ders = activation_ders\n",
    "        self.cost_func = cost_func\n",
    "        self.cost_der = cost_der\n",
    "\n",
    "    def create_layers(self, network_input_size, layer_output_sizes):\n",
    "        layers = []\n",
    "        input_size = network_input_size\n",
    "        for layer_output_size in layer_output_sizes:\n",
    "            # Initialize weights and biases randomly\n",
    "            W = np.random.randn(input_size, layer_output_size)\n",
    "            b = np.random.randn(layer_output_size)\n",
    "            layers.append((W, b))\n",
    "            input_size = layer_output_size\n",
    "        return layers\n",
    "\n",
    "    def predict(self, inputs):\n",
    "        # Simple feed forward pass\n",
    "        a = inputs\n",
    "        for (W, b), activation_func in zip(self.layers, self.activation_funcs):\n",
    "            z = a @ W + b\n",
    "            a = activation_func(z)\n",
    "        return a\n",
    "\n",
    "    def cost(self, inputs, targets):\n",
    "        # Compute the cost function based on the predictions\n",
    "        predictions = self.predict(inputs)\n",
    "        return self.cost_func(predictions, targets)\n",
    "\n",
    "    def _feed_forward_saver(self, inputs):\n",
    "        # Save the activations and linear transformations (zs) for backpropagation\n",
    "        layer_inputs = []\n",
    "        zs = []\n",
    "        a = inputs\n",
    "        for (W, b), activation_func in zip(self.layers, self.activation_funcs):\n",
    "            layer_inputs.append(a)\n",
    "            z = a @ W + b\n",
    "            a = activation_func(z)\n",
    "            zs.append(z)\n",
    "        return layer_inputs, zs, a\n",
    "\n",
    "    def compute_gradient(self, inputs, targets):\n",
    "        # Compute the gradients of the cost function w.r.t the weights and biases using backpropagation\n",
    "        layer_inputs, zs, prediction = self._feed_forward_saver(inputs)\n",
    "        layer_grads = [() for layer in self.layers]\n",
    "        \n",
    "        # Compute the cost derivative for the last layer\n",
    "        dC_da = self.cost_der(prediction, targets)\n",
    "\n",
    "        for i in reversed(range(len(self.layers))):\n",
    "            # For the last layer, dC/dz(L) = dC/da(L) * da/dz(L)\n",
    "            dC_dz = dC_da * self.activation_ders[i](zs[i])\n",
    "            dC_dW = dC_dz.T @ layer_inputs[i]\n",
    "            dC_db = dC_dz\n",
    "            \n",
    "            # Store gradients\n",
    "            layer_grads[i] = (dC_dW.T, dC_db.T)\n",
    "            \n",
    "            # Propagate the error back to the previous layers\n",
    "            if i > 0:\n",
    "                W, _ = self.layers[i]\n",
    "                dC_da = dC_dz @ W.T  # Backpropagate error for next layer\n",
    "\n",
    "        return layer_grads\n",
    "\n",
    "    def update_weights(self, layer_grads, learning_rate):\n",
    "        # Update the weights and biases based on computed gradients\n",
    "        for i, (dW, db) in enumerate(layer_grads):\n",
    "            W, b = self.layers[i]\n",
    "            self.layers[i] = (W - learning_rate * dW, b - learning_rate * db)\n",
    "\n",
    "    #TODO these two are not necessary for the project\n",
    "    def autograd_compliant_predict(self, layers, inputs):\n",
    "        # This function seems to mimic autograd predictions for comparison\n",
    "        a = inputs\n",
    "        for (W, b), activation_func in zip(layers, self.activation_funcs):\n",
    "            z = a @ W + b\n",
    "            a = activation_func(z)\n",
    "        return a\n",
    "\n",
    "    def autograd_gradient(self, inputs, targets):\n",
    "        # Wrapper function to check against autograd, could call an external grad() function\n",
    "        predictions = self.autograd_compliant_predict(self.layers, inputs)\n",
    "        return grad(self.cost_func)(predictions, targets)"
   ]
  },
  {
   "cell_type": "code",
   "execution_count": 874,
   "metadata": {},
   "outputs": [
    {
     "name": "stdout",
     "output_type": "stream",
     "text": [
      "[(array([[-5.04211389e-20,  9.22951450e-18,  4.15954148e-18,\n",
      "        -1.11255240e-22, -5.95272824e-18, -5.27639931e-18,\n",
      "        -3.10604035e-21,  1.90499974e-23],\n",
      "       [-2.41056248e-20,  6.23400738e-18,  2.83804006e-18,\n",
      "        -7.99777079e-23, -3.96410943e-18, -2.53097622e-18,\n",
      "        -2.18442102e-21, -1.33148229e-23],\n",
      "       [-4.28371568e-20,  1.72003046e-18,  7.35698625e-19,\n",
      "         1.96024278e-23, -9.94918516e-19, -3.84285081e-18,\n",
      "        -6.30683624e-22,  1.14138803e-22],\n",
      "       [-1.47722265e-20,  2.56176059e-19,  8.38258540e-20,\n",
      "         2.39478742e-23, -1.40452550e-19, -1.21243863e-18,\n",
      "        -3.05369184e-23,  5.30702899e-23]]), array([-1.01055055e-20,  1.52929087e-18,  7.04568093e-19, -2.64555876e-23,\n",
      "       -9.97026926e-19, -9.32024700e-19, -6.24794849e-22,  3.00675426e-24])), (array([[-4.28069808e-18,  5.09350711e-18,  1.23647038e-18],\n",
      "       [-1.31898118e-18,  4.87334670e-18,  1.26338485e-18],\n",
      "       [-7.69685079e-19,  1.62992042e-20, -1.79993839e-21],\n",
      "       [-4.28073614e-18,  5.09658585e-18,  1.23303209e-18],\n",
      "       [-3.54506048e-18,  9.72546687e-19,  5.94054005e-21],\n",
      "       [ 7.71264760e-21,  3.71146318e-18,  1.29062650e-18],\n",
      "       [-1.35918321e-21,  6.20447041e-22, -1.00855442e-22],\n",
      "       [-4.28062924e-18,  5.09653596e-18,  1.23303494e-18]]), array([-4.28075715e-18,  5.09663284e-18,  1.23300831e-18]))]\n"
     ]
    }
   ],
   "source": [
    "network = NeuralNetwork(4, [8, 3], [sigmoid, softmax], [sigmoid_der, softmax_der], mse, mse_der)\n",
    "layer_grads = network.compute_gradient(inputs, targets) \n",
    "print(layers_grads)"
   ]
  },
  {
   "cell_type": "code",
   "execution_count": null,
   "metadata": {},
   "outputs": [],
   "source": [
    "#TODO obviously something wrong still"
   ]
  }
 ],
 "metadata": {
  "kernelspec": {
   "display_name": "Python 3.10.8 64-bit",
   "language": "python",
   "name": "python3"
  },
  "language_info": {
   "codemirror_mode": {
    "name": "ipython",
    "version": 3
   },
   "file_extension": ".py",
   "mimetype": "text/x-python",
   "name": "python",
   "nbconvert_exporter": "python",
   "pygments_lexer": "ipython3",
   "version": "3.10.8"
  },
  "orig_nbformat": 4,
  "vscode": {
   "interpreter": {
    "hash": "aee8b7b246df8f9039afb4144a1f6fd8d2ca17a180786b69acc140d282b71a49"
   }
  }
 },
 "nbformat": 4,
 "nbformat_minor": 2
}
