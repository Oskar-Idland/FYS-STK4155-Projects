{
 "cells": [
  {
   "cell_type": "code",
   "execution_count": 1,
   "metadata": {},
   "outputs": [],
   "source": [
    "import autograd.numpy as np\n",
    "import matplotlib.pyplot as plt\n",
    "from RegressionModel import RegressionModel\n",
    "from NeuralNetwork import NeuralNetwork\n",
    "from functions import *\n",
    "\n",
    "seed = 42"
   ]
  },
  {
   "cell_type": "code",
   "execution_count": 2,
   "metadata": {},
   "outputs": [],
   "source": [
    "n = 100\n",
    "x = np.linspace(-3, 5, n).reshape(-1, 1)\n",
    "coeffs = [2.0, 1.5, 0.5, 1.0]\n",
    "y_true = f(x, coeffs)\n",
    "y = y_true + np.random.normal(0.0, 15, (n, 1))"
   ]
  },
  {
   "cell_type": "code",
   "execution_count": 3,
   "metadata": {},
   "outputs": [
    {
     "name": "stdout",
     "output_type": "stream",
     "text": [
      "4\n"
     ]
    }
   ],
   "source": [
    "model = RegressionModel(x, y, 3, seed = seed)\n",
    "X_train, X_test, y_train, y_test = model.X_train, model.X_test, model.y_train, model.y_test\n",
    "network_input_size = X_train.shape[1]\n",
    "print(network_input_size)\n",
    "layer_output_sizes = [8, 8, 12, 4, 1]  # Two hidden layers with 8 nodes each, single output for regression"
   ]
  },
  {
   "cell_type": "code",
   "execution_count": 4,
   "metadata": {},
   "outputs": [
    {
     "ename": "TypeError",
     "evalue": "'numpy.float64' object cannot be interpreted as an integer",
     "output_type": "error",
     "traceback": [
      "\u001b[0;31m---------------------------------------------------------------------------\u001b[0m",
      "\u001b[0;31mTypeError\u001b[0m                                 Traceback (most recent call last)",
      "Cell \u001b[0;32mIn [4], line 11\u001b[0m\n\u001b[1;32m      8\u001b[0m     \u001b[39mreturn\u001b[39;00m onehot_vector\n\u001b[1;32m     10\u001b[0m \u001b[39m#Y_train_onehot, Y_test_onehot = to_categorical(Y_train), to_categorical(Y_test)\u001b[39;00m\n\u001b[0;32m---> 11\u001b[0m y_train_onehot, y_test_onehot \u001b[39m=\u001b[39m to_categorical_numpy(y_train), to_categorical_numpy(y_test)\n",
      "Cell \u001b[0;32mIn [4], line 5\u001b[0m, in \u001b[0;36mto_categorical_numpy\u001b[0;34m(integer_vector)\u001b[0m\n\u001b[1;32m      3\u001b[0m n_inputs \u001b[39m=\u001b[39m \u001b[39mlen\u001b[39m(integer_vector)\n\u001b[1;32m      4\u001b[0m n_categories \u001b[39m=\u001b[39m np\u001b[39m.\u001b[39mmax(integer_vector) \u001b[39m+\u001b[39m \u001b[39m1\u001b[39m\n\u001b[0;32m----> 5\u001b[0m onehot_vector \u001b[39m=\u001b[39m np\u001b[39m.\u001b[39;49mzeros((n_inputs, n_categories))\n\u001b[1;32m      6\u001b[0m onehot_vector[\u001b[39mrange\u001b[39m(n_inputs), integer_vector] \u001b[39m=\u001b[39m \u001b[39m1\u001b[39m\n\u001b[1;32m      8\u001b[0m \u001b[39mreturn\u001b[39;00m onehot_vector\n",
      "\u001b[0;31mTypeError\u001b[0m: 'numpy.float64' object cannot be interpreted as an integer"
     ]
    }
   ],
   "source": [
    "# one-hot in numpy\n",
    "def to_categorical_numpy(integer_vector):\n",
    "    n_inputs = len(integer_vector)\n",
    "    n_categories = np.max(integer_vector) + 1\n",
    "    onehot_vector = np.zeros((n_inputs, n_categories))\n",
    "    onehot_vector[range(n_inputs), integer_vector] = 1\n",
    "    \n",
    "    return onehot_vector\n",
    "\n",
    "#Y_train_onehot, Y_test_onehot = to_categorical(Y_train), to_categorical(Y_test)\n",
    "y_train_onehot, y_test_onehot = to_categorical_numpy(y_train), to_categorical_numpy(y_test)"
   ]
  },
  {
   "cell_type": "code",
   "execution_count": 5,
   "metadata": {},
   "outputs": [
    {
     "name": "stdout",
     "output_type": "stream",
     "text": [
      "Accuracy score on test set:  0.0\n"
     ]
    }
   ],
   "source": [
    "epochs = 100\n",
    "batch_size = 100\n",
    "\n",
    "dnn = NeuralNetwork(X_train, y_train)\n",
    "dnn.train()\n",
    "test_predict = dnn.predict(X_test)\n",
    "\n",
    "# equivalent in numpy\n",
    "def accuracy_score_numpy(y_test, y_pred):\n",
    "    return np.sum(y_test == y_pred) / len(y_test)\n",
    "\n",
    "# accuracy score from scikit library\n",
    "print(\"Accuracy score on test set: \", accuracy_score_numpy(y_test, test_predict))"
   ]
  },
  {
   "cell_type": "code",
   "execution_count": 134,
   "metadata": {},
   "outputs": [],
   "source": [
    "network = NeuralNetwork(network_input_size, layer_output_sizes, [sigmoid, sigmoid, sigmoid, sigmoid, linear], [sigmoid_der, sigmoid_der, sigmoid_der, sigmoid_der, linear_der], cost_func = MSE, cost_der = MSE_der)"
   ]
  },
  {
   "cell_type": "code",
   "execution_count": 135,
   "metadata": {},
   "outputs": [],
   "source": [
    "layer_grads = network.compute_gradients(X_train, y_train)"
   ]
  },
  {
   "cell_type": "code",
   "execution_count": 136,
   "metadata": {},
   "outputs": [],
   "source": [
    "network.update_weights_sgd(X_train, y_train, 0.001, 0.09, 100, 5)"
   ]
  },
  {
   "cell_type": "code",
   "execution_count": 137,
   "metadata": {},
   "outputs": [],
   "source": [
    "y_pred = network.predict(X_train)"
   ]
  },
  {
   "cell_type": "code",
   "execution_count": 6,
   "metadata": {},
   "outputs": [
    {
     "data": {
      "text/plain": [
       "<matplotlib.collections.PathCollection at 0x164fa1c00>"
      ]
     },
     "execution_count": 6,
     "metadata": {},
     "output_type": "execute_result"
    },
    {
     "data": {
      "image/png": "[encoded data removed]",
      "text/plain": [
       "<Figure size 640x480 with 1 Axes>"
      ]
     },
     "metadata": {},
     "output_type": "display_data"
    }
   ],
   "source": [
    "plt.scatter(X_test[:, 1], y_test)\n",
    "plt.scatter(X_test[:, 1], test_predict)"
   ]
  }
 ],
 "metadata": {
  "kernelspec": {
   "display_name": "Python 3.10.8 64-bit",
   "language": "python",
   "name": "python3"
  },
  "language_info": {
   "codemirror_mode": {
    "name": "ipython",
    "version": 3
   },
   "file_extension": ".py",
   "mimetype": "text/x-python",
   "name": "python",
   "nbconvert_exporter": "python",
   "pygments_lexer": "ipython3",
   "version": "3.10.8"
  },
  "orig_nbformat": 4,
  "vscode": {
   "interpreter": {
    "hash": "aee8b7b246df8f9039afb4144a1f6fd8d2ca17a180786b69acc140d282b71a49"
   }
  }
 },
 "nbformat": 4,
 "nbformat_minor": 2
}
