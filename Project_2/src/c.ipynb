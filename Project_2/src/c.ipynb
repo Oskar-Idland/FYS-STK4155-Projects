{
 "cells": [
  {
   "cell_type": "code",
   "execution_count": 4,
   "metadata": {},
   "outputs": [],
   "source": [
    "import numpy as np\n",
    "from sklearn.datasets import load_breast_cancer\n",
    "from sklearn.model_selection import train_test_split\n",
    "from sklearn.preprocessing import StandardScaler\n",
    "from FFNN import FFNN\n",
    "\n",
    "from activation_funcs import sigmoid, RELU\n",
    "from functions import CostLogReg\n",
    "from Scheduler import Adam, Constant, Momentum, RMS_prop\n"
   ]
  },
  {
   "cell_type": "code",
   "execution_count": 11,
   "metadata": {},
   "outputs": [
    {
     "name": "stdout",
     "output_type": "stream",
     "text": [
      "Classification task detected\n",
      "Adam: Eta=0.0001, Lambda=0.01\n",
      "  [=======================================>] 100.0% | training_scores: 0.177 | train_acc: 0.978                  \n",
      "Final Training Cost: 0.1771\n",
      "Final Test Cost: nan\n",
      "\n",
      "Final Training Accuracy: 0.9780\n",
      "Final Test Accuracy: 0.0000\n"
     ]
    }
   ],
   "source": [
    "seed = 42069\n",
    "np.random.seed(seed)\n",
    "\n",
    "# Load breast cancer dataset\n",
    "data = load_breast_cancer()\n",
    "X = data.data\n",
    "y = data.target.reshape(-1, 1)  # Reshape to match FFNN output shape\n",
    "\n",
    "# Split and scale data\n",
    "X_train, X_test, y_train, y_test = train_test_split(X, y, test_size=0.2, random_state=seed)\n",
    "\n",
    "scaler_x = StandardScaler()\n",
    "scaler_y = StandardScaler()\n",
    "X_train_scaled = scaler_x.fit_transform(X_train)\n",
    "X_test_scaled = scaler_x.transform(X_test)\n",
    "y_test_scaled = scaler_y.fit_transform(y_test)\n",
    "y_train_scaled = scaler_y.transform(y_train)\n",
    "\n",
    "# Define network architecture\n",
    "input_size = X.shape[1]  # 30 features\n",
    "hidden_layers = [10]  \n",
    "output_size = 1  # Binary classification\n",
    "dimensions = (input_size, *hidden_layers, output_size)\n",
    "\n",
    "# Create model\n",
    "model = FFNN(\n",
    "    layer_sizes=dimensions,\n",
    "    hidden_funcs=[sigmoid],  # Sigmoid activation for hidden layers\n",
    "    output_func=sigmoid,  # Sigmoid for output layer since binary classification\n",
    "    cost_func=CostLogReg,  # Logistic regression cost function\n",
    "    seed=seed,\n",
    ")\n",
    "\n",
    "# Training parameters\n",
    "scheduler = Adam(eta=0.0001, rho=0.9, rho2=0.999)\n",
    "epochs = 500\n",
    "batches = 20\n",
    "lambda_value = 0.01\n",
    "\n",
    "# Train model\n",
    "scores = model.fit(\n",
    "    X_train_scaled, \n",
    "    y_train,\n",
    "    scheduler=scheduler,\n",
    "    epochs=epochs,\n",
    "    batches=batches,\n",
    "    lmbda=lambda_value,\n",
    "    X_test=X_test_scaled,\n",
    "    y_test=y_test_scaled\n",
    ")\n",
    "\n",
    "cost_train = scores[\"cost\"][-1]\n",
    "cost_test = scores[\"test_cost\"][-1]\n",
    "\n",
    "train_accuracy = scores[\"train_accuracy\"][-1]\n",
    "test_accuracy = scores[\"test_accuracy\"][-1]\n",
    "\n",
    "print(f\"\\nFinal Training Cost: {cost_train:.4f}\")\n",
    "print(f\"Final Test Cost: {cost_test:.4f}\")\n",
    "print(f\"\\nFinal Training Accuracy: {train_accuracy:.4f}\")\n",
    "print(f\"Final Test Accuracy: {test_accuracy:.4f}\")"
   ]
  }
 ],
 "metadata": {
  "kernelspec": {
   "display_name": "Python 3",
   "language": "python",
   "name": "python3"
  },
  "language_info": {
   "codemirror_mode": {
    "name": "ipython",
    "version": 3
   },
   "file_extension": ".py",
   "mimetype": "text/x-python",
   "name": "python",
   "nbconvert_exporter": "python",
   "pygments_lexer": "ipython3",
   "version": "3.10.11"
  }
 },
 "nbformat": 4,
 "nbformat_minor": 2
}
